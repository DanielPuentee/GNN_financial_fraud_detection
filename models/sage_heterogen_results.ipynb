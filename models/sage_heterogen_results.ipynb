{
 "cells": [
  {
   "cell_type": "code",
   "execution_count": 1,
   "metadata": {},
   "outputs": [],
   "source": [
    "import pandas as pd\n",
    "import numpy as np\n",
    "import matplotlib.pyplot as plt\n",
    "import pickle\n",
    "import itertools"
   ]
  },
  {
   "cell_type": "markdown",
   "metadata": {},
   "source": [
    "* Sklearn"
   ]
  },
  {
   "cell_type": "code",
   "execution_count": 2,
   "metadata": {},
   "outputs": [],
   "source": [
    "from sklearn.preprocessing import StandardScaler\n",
    "from sklearn.decomposition import PCA\n",
    "from sklearn.model_selection import train_test_split, cross_val_score, GridSearchCV\n",
    "from sklearn.ensemble import RandomForestClassifier\n",
    "from sklearn.metrics import f1_score, recall_score, precision_score, confusion_matrix, roc_auc_score"
   ]
  },
  {
   "cell_type": "markdown",
   "metadata": {},
   "source": [
    "Pytorch"
   ]
  },
  {
   "cell_type": "code",
   "execution_count": 3,
   "metadata": {},
   "outputs": [
    {
     "name": "stderr",
     "output_type": "stream",
     "text": [
      "c:\\Users\\Daniel\\anaconda3\\envs\\tfg_mlflow\\lib\\site-packages\\tqdm\\auto.py:22: TqdmWarning: IProgress not found. Please update jupyter and ipywidgets. See https://ipywidgets.readthedocs.io/en/stable/user_install.html\n",
      "  from .autonotebook import tqdm as notebook_tqdm\n"
     ]
    }
   ],
   "source": [
    "import torch\n",
    "\n",
    "from torch_geometric.data import HeteroData\n",
    "import torch_geometric.transforms as T\n",
    "from torch_geometric.nn import Sequential, Linear, SAGEConv, to_hetero\n",
    "from torch.nn import ReLU\n",
    "import torch.nn.functional as F"
   ]
  },
  {
   "cell_type": "markdown",
   "metadata": {},
   "source": [
    "* Paths and warnings"
   ]
  },
  {
   "cell_type": "code",
   "execution_count": 1,
   "metadata": {},
   "outputs": [],
   "source": [
    "import time"
   ]
  },
  {
   "cell_type": "code",
   "execution_count": 3,
   "metadata": {},
   "outputs": [],
   "source": [
    "aa = time.time()\n"
   ]
  },
  {
   "cell_type": "code",
   "execution_count": 6,
   "metadata": {},
   "outputs": [
    {
     "data": {
      "text/plain": [
       "4.028389930725098"
      ]
     },
     "execution_count": 6,
     "metadata": {},
     "output_type": "execute_result"
    }
   ],
   "source": [
    "time.time() - aa"
   ]
  },
  {
   "cell_type": "code",
   "execution_count": 4,
   "metadata": {},
   "outputs": [],
   "source": [
    "import warnings\n",
    "warnings.filterwarnings(\"ignore\")\n",
    "\n",
    "path = \"../data/eda_generated_data/\"\n",
    "output_path = \"../data/graph_data/\""
   ]
  },
  {
   "cell_type": "code",
   "execution_count": 5,
   "metadata": {},
   "outputs": [],
   "source": [
    "from customer_inclusion import graph_test_no_prev, graph_test_prev\n",
    "model = torch.load('../data/models/sage_heterogen_model.pt')\n",
    "model_prev = torch.load('../data/models/sage_heterogen_model_prev.pt')"
   ]
  },
  {
   "cell_type": "markdown",
   "metadata": {},
   "source": [
    "* Load data"
   ]
  },
  {
   "cell_type": "code",
   "execution_count": 6,
   "metadata": {},
   "outputs": [],
   "source": [
    "def load_pickle(path, file_name):\n",
    "    with open(path + file_name, 'rb') as f: return pickle.load(f)\n",
    "\n",
    "path = \"../data/graph_data/\"\n",
    "eda_path = \"../data/eda_generated_data/\"\n",
    "output_path = \"../data/models/\""
   ]
  },
  {
   "cell_type": "code",
   "execution_count": 7,
   "metadata": {},
   "outputs": [],
   "source": [
    "training_graph = torch.load(path + 'training_graph.pt')\n",
    "training_graph_prev = torch.load(path + 'training_graph_prev.pt')\n",
    "\n",
    "df_test = load_pickle(eda_path, \"df_test.pkl\")"
   ]
  },
  {
   "cell_type": "code",
   "execution_count": 8,
   "metadata": {},
   "outputs": [],
   "source": [
    "eda_path = \"../data/eda_generated_data/\"\n",
    "\n",
    "graph_df = load_pickle(path, 'graph_df.pkl')\n",
    "df_train = load_pickle(eda_path, 'df_train.pkl')\n",
    "scaler = load_pickle(eda_path, 'scaler.pkl')"
   ]
  },
  {
   "cell_type": "code",
   "execution_count": 11,
   "metadata": {},
   "outputs": [],
   "source": [
    "# training_graph_new_no_prev = graph_test_no_prev(df_test.iloc[:1000])\n",
    "training_graph_new_prev = graph_test_prev(df_test.iloc[:1000])"
   ]
  },
  {
   "cell_type": "code",
   "execution_count": 10,
   "metadata": {},
   "outputs": [
    {
     "data": {
      "text/plain": [
       "HeteroData(\n",
       "  \u001b[1musers\u001b[0m={\n",
       "    x=[11000, 48],\n",
       "    y=[10000],\n",
       "    train_mask=[10000],\n",
       "    valid_mask=[10000],\n",
       "    test_mask=[11000]\n",
       "  },\n",
       "  \u001b[1mprevious\u001b[0m={ x=[10492, 48] },\n",
       "  \u001b[1m(users, organization, users)\u001b[0m={ edge_index=[2, 12780422] },\n",
       "  \u001b[1m(users, organization_weekday, users)\u001b[0m={ edge_index=[2, 2011456] },\n",
       "  \u001b[1m(users, income_car_organization, users)\u001b[0m={ edge_index=[2, 5304538] },\n",
       "  \u001b[1m(users, realty_organization, users)\u001b[0m={ edge_index=[2, 7545006] },\n",
       "  \u001b[1m(users, suite_organization, users)\u001b[0m={ edge_index=[2, 8626892] },\n",
       "  \u001b[1m(users, contract_organization, users)\u001b[0m={ edge_index=[2, 10665314] },\n",
       "  \u001b[1m(users, housing_education_organization, users)\u001b[0m={ edge_index=[2, 6293298] },\n",
       "  \u001b[1m(users, housing_family_organization, users)\u001b[0m={ edge_index=[2, 4597520] },\n",
       "  \u001b[1m(users, has_previous, previous)\u001b[0m={ edge_index=[2, 10492] },\n",
       "  \u001b[1m(previous, rev_has_previous, users)\u001b[0m={ edge_index=[2, 10492] }\n",
       ")"
      ]
     },
     "execution_count": 10,
     "metadata": {},
     "output_type": "execute_result"
    }
   ],
   "source": [
    "training_graph_new_prev"
   ]
  },
  {
   "cell_type": "code",
   "execution_count": 16,
   "metadata": {},
   "outputs": [],
   "source": [
    "model_prev.eval()\n",
    "out = model_prev(training_graph_new_prev.x_dict, training_graph_new_prev.edge_index_dict)\n",
    "mask = training_graph_new_prev['users'].test_mask\n",
    "pred = out['users'][mask].max(1)[1]"
   ]
  },
  {
   "cell_type": "code",
   "execution_count": null,
   "metadata": {},
   "outputs": [],
   "source": [
    "model.eval()\n",
    "out = model(training_graph_new_no_prev.x_dict, training_graph_new_no_prev.edge_index_dict)\n",
    "mask = training_graph_new_no_prev['users'].test_mask\n",
    "pred = out['users'][mask].max(1)[1]"
   ]
  },
  {
   "cell_type": "code",
   "execution_count": 17,
   "metadata": {},
   "outputs": [
    {
     "data": {
      "text/plain": [
       "(0.6429924242424243,\n",
       " 0.2552083333333333,\n",
       " 0.16554054054054054,\n",
       " 0.5568181818181818)"
      ]
     },
     "execution_count": 17,
     "metadata": {},
     "output_type": "execute_result"
    }
   ],
   "source": [
    "roc_auc_score(df_test.iloc[:1000].TARGET, pred), f1_score(df_test.iloc[:1000].TARGET, pred), precision_score(df_test.iloc[:1000].TARGET, pred), recall_score(df_test.iloc[:1000].TARGET, pred)"
   ]
  },
  {
   "cell_type": "code",
   "execution_count": 14,
   "metadata": {},
   "outputs": [
    {
     "data": {
      "text/plain": [
       "(0.623787130028163,\n",
       " 0.25165562913907286,\n",
       " 0.18018967334035826,\n",
       " 0.4170731707317073)"
      ]
     },
     "execution_count": 14,
     "metadata": {},
     "output_type": "execute_result"
    }
   ],
   "source": [
    "roc_auc_score(df_test.iloc[:10000].TARGET, pred), f1_score(df_test.iloc[:10000].TARGET, pred), precision_score(df_test.iloc[:10000].TARGET, pred), recall_score(df_test.iloc[:10000].TARGET, pred)"
   ]
  }
 ],
 "metadata": {
  "kernelspec": {
   "display_name": "Python 3.8.15 ('tfg_mlflow')",
   "language": "python",
   "name": "python3"
  },
  "language_info": {
   "codemirror_mode": {
    "name": "ipython",
    "version": 3
   },
   "file_extension": ".py",
   "mimetype": "text/x-python",
   "name": "python",
   "nbconvert_exporter": "python",
   "pygments_lexer": "ipython3",
   "version": "3.8.15"
  },
  "orig_nbformat": 4,
  "vscode": {
   "interpreter": {
    "hash": "1edfdd4f2ba434fa34349e35660af1516eb69f8b7fb896a2cf404b168d66bee8"
   }
  }
 },
 "nbformat": 4,
 "nbformat_minor": 2
}
