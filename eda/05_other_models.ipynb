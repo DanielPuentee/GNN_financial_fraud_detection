{
 "cells": [
  {
   "cell_type": "markdown",
   "metadata": {},
   "source": [
    "*Author: Daniel Puente Viejo*  \n",
    "\n",
    "<img src=\"https://cdn-icons-png.flaticon.com/512/4148/4148575.png\" width=\"100\" height=\"100\" float =\"right\">    \n",
    "\n",
    "In this notebook we intend to generate multiple models, both easily explainable and difficult and see how well they perform. Once you enter the graph you will be able to see the difference in results.  \n",
    "\n",
    "- <a href='#1'><ins>1. Loading of Libraries and Data<ins></a>\n",
    "- <a href='#2'><ins>2. Easy interpretability<ins> </a>\n",
    "- <a href='#3'><ins>3. Hard interpretability<ins></a>\n",
    "- <a href='#4'><ins>4. Really hard interpretability<ins></a>\n",
    "- <a href='#5'><ins>5. Saving relevant metrics<ins></a>"
   ]
  },
  {
   "cell_type": "markdown",
   "metadata": {},
   "source": [
    "### <a id='1'>1. Loading of Libraries and Data</a>\n",
    "----"
   ]
  },
  {
   "cell_type": "markdown",
   "metadata": {},
   "source": [
    "* Common libraries"
   ]
  },
  {
   "cell_type": "code",
   "execution_count": 158,
   "metadata": {},
   "outputs": [],
   "source": [
    "import pandas as pd\n",
    "import numpy as np\n",
    "import pickle\n",
    "import itertools\n",
    "import matplotlib.pyplot as plt"
   ]
  },
  {
   "cell_type": "markdown",
   "metadata": {},
   "source": [
    "* Sklearn"
   ]
  },
  {
   "cell_type": "code",
   "execution_count": 159,
   "metadata": {},
   "outputs": [],
   "source": [
    "from sklearn.preprocessing import StandardScaler\n",
    "from sklearn.decomposition import PCA\n",
    "from sklearn.model_selection import train_test_split, cross_val_score\n",
    "from sklearn.ensemble import RandomForestClassifier\n",
    "from sklearn.linear_model import LogisticRegression, SGDClassifier\n",
    "from sklearn.tree import DecisionTreeClassifier\n",
    "from sklearn.metrics import f1_score, recall_score, precision_score, confusion_matrix, roc_auc_score\n",
    "\n",
    "from skopt import BayesSearchCV\n",
    "\n",
    "from xgboost import XGBClassifier\n",
    "from lightgbm import LGBMClassifier\n",
    "from catboost import CatBoostClassifier"
   ]
  },
  {
   "cell_type": "markdown",
   "metadata": {},
   "source": [
    "* Pytorch"
   ]
  },
  {
   "cell_type": "code",
   "execution_count": 1,
   "metadata": {},
   "outputs": [],
   "source": [
    "import torch\n",
    "import torch_geometric.transforms as T\n",
    "from torch_geometric.nn import Linear\n",
    "import torch.nn.functional as F"
   ]
  },
  {
   "cell_type": "markdown",
   "metadata": {},
   "source": [
    "* Paths and warnings"
   ]
  },
  {
   "cell_type": "code",
   "execution_count": 160,
   "metadata": {},
   "outputs": [],
   "source": [
    "import warnings\n",
    "warnings.filterwarnings(\"ignore\")\n",
    "\n",
    "eda_path = \"../data/eda_generated_data/\"\n",
    "path = \"../data/graph_data/\"\n",
    "\n",
    "def load_pickle(path, file_name):\n",
    "    with open(path + file_name, 'rb') as f: return pickle.load(f)\n",
    "    \n",
    "def save_pickle_file(file_name, file):\n",
    "    with open(output_path + file_name, 'wb') as f: pickle.dump(file, f)"
   ]
  },
  {
   "cell_type": "markdown",
   "metadata": {},
   "source": [
    "Data is loaded"
   ]
  },
  {
   "cell_type": "code",
   "execution_count": 161,
   "metadata": {},
   "outputs": [],
   "source": [
    "df_train_graph = load_pickle(path, \"df_train_graph.pkl\")\n",
    "df_val_graph = load_pickle(path, \"df_val_graph.pkl\")\n",
    "df_test = load_pickle(eda_path, \"df_test.pkl\")\n",
    "scaler = load_pickle(eda_path, \"scaler.pkl\")"
   ]
  },
  {
   "cell_type": "markdown",
   "metadata": {},
   "source": [
    "Data is transformed"
   ]
  },
  {
   "cell_type": "code",
   "execution_count": 162,
   "metadata": {},
   "outputs": [],
   "source": [
    "df_train_graph_numeric_scaled = scaler.transform(df_train_graph.select_dtypes(include=np.number).drop(columns=[\"SK_ID_CURR\",\"TARGET\"]))\n",
    "df_val_graph_numeric_scaled = scaler.transform(df_val_graph.select_dtypes(include=np.number).drop(columns=[\"SK_ID_CURR\",\"TARGET\"]))"
   ]
  },
  {
   "cell_type": "markdown",
   "metadata": {},
   "source": [
    "Test is scaled with the scaler fitted on train and val data"
   ]
  },
  {
   "cell_type": "code",
   "execution_count": 163,
   "metadata": {},
   "outputs": [],
   "source": [
    "df_test_numeric = df_test.loc[:, df_train_graph.select_dtypes(include=np.number).drop(columns=[\"SK_ID_CURR\",\"TARGET\"]).columns]\n",
    "df_test_graph_numeric_scaled = scaler.transform(df_test_numeric)\n",
    "df_test_graph_numeric_scaled = df_test_graph_numeric_scaled[:2000]"
   ]
  },
  {
   "cell_type": "markdown",
   "metadata": {},
   "source": [
    "### <a id='2'>2. Easy intepretability</a>\n",
    "----"
   ]
  },
  {
   "cell_type": "markdown",
   "metadata": {},
   "source": [
    "List of models and parameters to test"
   ]
  },
  {
   "cell_type": "code",
   "execution_count": 164,
   "metadata": {},
   "outputs": [],
   "source": [
    "easy_model_list = [LogisticRegression(),  DecisionTreeClassifier()]\n",
    "easy_model_params_list = [{\"penalty\": [\"l1\", \"l2\"], \"C\": [0.001, 0.01, 0.1, 1, 10, 100, 1000], \"solver\": [\"liblinear\"]},\n",
    "                          {\"criterion\": [\"gini\", \"entropy\"], \"max_depth\": [None, 1, 2, 3, 4, 5, 6, 7, 8, 9, 10], \"min_samples_split\": [2, 3, 4, 5, 6, 7, 8, 9, 10], \"min_samples_leaf\": [1, 2, 3, 4, 5, 6, 7, 8, 9, 10]}]"
   ]
  },
  {
   "cell_type": "markdown",
   "metadata": {},
   "source": [
    "Thanks to this function each model of the list will be trained and the results will be saved in a dictionary.   \n",
    "BayesSearchCV is used to find the best parameters for each model."
   ]
  },
  {
   "cell_type": "code",
   "execution_count": 165,
   "metadata": {},
   "outputs": [],
   "source": [
    "def training_models(model_list, model_params_list, n_iter=10, cv=5, n_jobs=-1, verbose=1, scoring=\"roc_auc\"):\n",
    "    model_list_results = []\n",
    "    for model, params in zip(model_list, model_params_list):\n",
    "\n",
    "        print(model)\n",
    "        bayes_cv_tuner = BayesSearchCV(model, params, n_iter=n_iter, cv=cv, n_jobs=-1, verbose=1, scoring=\"roc_auc\")\n",
    "        bayes_cv_tuner.fit(df_train_graph_numeric_scaled, df_train_graph[\"TARGET\"])\n",
    "        model_list_results.append(bayes_cv_tuner.best_estimator_)\n",
    "        print(\"Best score: {}\".format(bayes_cv_tuner.best_score_))\n",
    "        print(\"Best params: {}\".format(bayes_cv_tuner.best_params_))\n",
    "        \n",
    "    return model_list_results"
   ]
  },
  {
   "cell_type": "code",
   "execution_count": 26,
   "metadata": {},
   "outputs": [
    {
     "name": "stdout",
     "output_type": "stream",
     "text": [
      "LogisticRegression()\n",
      "Fitting 5 folds for each of 1 candidates, totalling 5 fits\n",
      "Fitting 5 folds for each of 1 candidates, totalling 5 fits\n",
      "Fitting 5 folds for each of 1 candidates, totalling 5 fits\n",
      "Fitting 5 folds for each of 1 candidates, totalling 5 fits\n",
      "Fitting 5 folds for each of 1 candidates, totalling 5 fits\n",
      "Fitting 5 folds for each of 1 candidates, totalling 5 fits\n",
      "Fitting 5 folds for each of 1 candidates, totalling 5 fits\n",
      "Fitting 5 folds for each of 1 candidates, totalling 5 fits\n",
      "Fitting 5 folds for each of 1 candidates, totalling 5 fits\n",
      "Fitting 5 folds for each of 1 candidates, totalling 5 fits\n",
      "Best score: 0.7317419640938062\n",
      "Best params: OrderedDict([('C', 0.001), ('penalty', 'l2'), ('solver', 'liblinear')])\n",
      "DecisionTreeClassifier()\n",
      "Fitting 5 folds for each of 1 candidates, totalling 5 fits\n",
      "Fitting 5 folds for each of 1 candidates, totalling 5 fits\n",
      "Fitting 5 folds for each of 1 candidates, totalling 5 fits\n",
      "Fitting 5 folds for each of 1 candidates, totalling 5 fits\n",
      "Fitting 5 folds for each of 1 candidates, totalling 5 fits\n",
      "Fitting 5 folds for each of 1 candidates, totalling 5 fits\n",
      "Fitting 5 folds for each of 1 candidates, totalling 5 fits\n",
      "Fitting 5 folds for each of 1 candidates, totalling 5 fits\n",
      "Fitting 5 folds for each of 1 candidates, totalling 5 fits\n",
      "Fitting 5 folds for each of 1 candidates, totalling 5 fits\n",
      "Best score: 0.6959466572760632\n",
      "Best params: OrderedDict([('criterion', 'gini'), ('max_depth', 4), ('min_samples_leaf', 9), ('min_samples_split', 8)])\n"
     ]
    }
   ],
   "source": [
    "model_list = training_models(easy_model_list, easy_model_params_list)"
   ]
  },
  {
   "cell_type": "markdown",
   "metadata": {},
   "source": [
    "Function to return the main metrics"
   ]
  },
  {
   "cell_type": "code",
   "execution_count": 166,
   "metadata": {},
   "outputs": [],
   "source": [
    "def metrics_return(y_true, y_pred):\n",
    "    f1 = f1_score(y_true, y_pred)\n",
    "    precision = precision_score(y_true, y_pred)\n",
    "    recall = recall_score(y_true, y_pred)\n",
    "    auc = roc_auc_score(y_true, y_pred)\n",
    "\n",
    "    return f1, precision, recall, auc"
   ]
  },
  {
   "cell_type": "markdown",
   "metadata": {},
   "source": [
    "Train, validation and test sets are predicted and metrics saved in a dataframe."
   ]
  },
  {
   "cell_type": "code",
   "execution_count": 167,
   "metadata": {},
   "outputs": [],
   "source": [
    "def results_model_iteration(model_list):\n",
    "\n",
    "    metrics_train, metrics_val, metrics_test = [], [], []\n",
    "    for model in model_list:\n",
    "        y_pred_train = model.predict(df_train_graph_numeric_scaled)\n",
    "        y_pred_val = model.predict(df_val_graph_numeric_scaled)\n",
    "        y_pred_test = model.predict(df_test_graph_numeric_scaled)\n",
    "\n",
    "        metrics_train.append(metrics_return(df_train_graph[\"TARGET\"], y_pred_train))\n",
    "        metrics_val.append(metrics_return(df_val_graph[\"TARGET\"], y_pred_val))\n",
    "        metrics_test.append(metrics_return(df_test[\"TARGET\"][:2000], y_pred_test))\n",
    "    \n",
    "    return metrics_train, metrics_val, metrics_test"
   ]
  },
  {
   "cell_type": "markdown",
   "metadata": {},
   "source": [
    "The results seem not to be very good, but we will see if we can improve them with the next models.   \n",
    "However taking a look at the results the best model is:    \n",
    "·   \n",
    "👉 **DecisionTreeClassifier**"
   ]
  },
  {
   "cell_type": "code",
   "execution_count": 28,
   "metadata": {},
   "outputs": [
    {
     "data": {
      "text/html": [
       "<div>\n",
       "<style scoped>\n",
       "    .dataframe tbody tr th:only-of-type {\n",
       "        vertical-align: middle;\n",
       "    }\n",
       "\n",
       "    .dataframe tbody tr th {\n",
       "        vertical-align: top;\n",
       "    }\n",
       "\n",
       "    .dataframe thead th {\n",
       "        text-align: right;\n",
       "    }\n",
       "</style>\n",
       "<table border=\"1\" class=\"dataframe\">\n",
       "  <thead>\n",
       "    <tr style=\"text-align: right;\">\n",
       "      <th></th>\n",
       "      <th>f1_train</th>\n",
       "      <th>precision_train</th>\n",
       "      <th>recall_train</th>\n",
       "      <th>auc_train</th>\n",
       "    </tr>\n",
       "  </thead>\n",
       "  <tbody>\n",
       "    <tr>\n",
       "      <th>LogisticRegression</th>\n",
       "      <td>0.000000</td>\n",
       "      <td>0.000000</td>\n",
       "      <td>0.000000</td>\n",
       "      <td>0.500000</td>\n",
       "    </tr>\n",
       "    <tr>\n",
       "      <th>DecisionTreeClassifier</th>\n",
       "      <td>0.044719</td>\n",
       "      <td>0.659091</td>\n",
       "      <td>0.023144</td>\n",
       "      <td>0.511064</td>\n",
       "    </tr>\n",
       "  </tbody>\n",
       "</table>\n",
       "</div>"
      ],
      "text/plain": [
       "                        f1_train  precision_train  recall_train  auc_train\n",
       "LogisticRegression      0.000000         0.000000      0.000000   0.500000\n",
       "DecisionTreeClassifier  0.044719         0.659091      0.023144   0.511064"
      ]
     },
     "metadata": {},
     "output_type": "display_data"
    },
    {
     "data": {
      "text/html": [
       "<div>\n",
       "<style scoped>\n",
       "    .dataframe tbody tr th:only-of-type {\n",
       "        vertical-align: middle;\n",
       "    }\n",
       "\n",
       "    .dataframe tbody tr th {\n",
       "        vertical-align: top;\n",
       "    }\n",
       "\n",
       "    .dataframe thead th {\n",
       "        text-align: right;\n",
       "    }\n",
       "</style>\n",
       "<table border=\"1\" class=\"dataframe\">\n",
       "  <thead>\n",
       "    <tr style=\"text-align: right;\">\n",
       "      <th></th>\n",
       "      <th>f1_val</th>\n",
       "      <th>precision_val</th>\n",
       "      <th>recall_val</th>\n",
       "      <th>auc_val</th>\n",
       "    </tr>\n",
       "  </thead>\n",
       "  <tbody>\n",
       "    <tr>\n",
       "      <th>LogisticRegression</th>\n",
       "      <td>0.000000</td>\n",
       "      <td>0.000000</td>\n",
       "      <td>0.000000</td>\n",
       "      <td>0.500000</td>\n",
       "    </tr>\n",
       "    <tr>\n",
       "      <th>DecisionTreeClassifier</th>\n",
       "      <td>0.024691</td>\n",
       "      <td>0.357143</td>\n",
       "      <td>0.012788</td>\n",
       "      <td>0.505418</td>\n",
       "    </tr>\n",
       "  </tbody>\n",
       "</table>\n",
       "</div>"
      ],
      "text/plain": [
       "                          f1_val  precision_val  recall_val   auc_val\n",
       "LogisticRegression      0.000000       0.000000    0.000000  0.500000\n",
       "DecisionTreeClassifier  0.024691       0.357143    0.012788  0.505418"
      ]
     },
     "metadata": {},
     "output_type": "display_data"
    },
    {
     "data": {
      "text/html": [
       "<div>\n",
       "<style scoped>\n",
       "    .dataframe tbody tr th:only-of-type {\n",
       "        vertical-align: middle;\n",
       "    }\n",
       "\n",
       "    .dataframe tbody tr th {\n",
       "        vertical-align: top;\n",
       "    }\n",
       "\n",
       "    .dataframe thead th {\n",
       "        text-align: right;\n",
       "    }\n",
       "</style>\n",
       "<table border=\"1\" class=\"dataframe\">\n",
       "  <thead>\n",
       "    <tr style=\"text-align: right;\">\n",
       "      <th></th>\n",
       "      <th>f1_test</th>\n",
       "      <th>precision_test</th>\n",
       "      <th>recall_test</th>\n",
       "      <th>auc_test</th>\n",
       "    </tr>\n",
       "  </thead>\n",
       "  <tbody>\n",
       "    <tr>\n",
       "      <th>LogisticRegression</th>\n",
       "      <td>0.000000</td>\n",
       "      <td>0.000000</td>\n",
       "      <td>0.000000</td>\n",
       "      <td>0.500000</td>\n",
       "    </tr>\n",
       "    <tr>\n",
       "      <th>DecisionTreeClassifier</th>\n",
       "      <td>0.011299</td>\n",
       "      <td>0.142857</td>\n",
       "      <td>0.005882</td>\n",
       "      <td>0.501302</td>\n",
       "    </tr>\n",
       "  </tbody>\n",
       "</table>\n",
       "</div>"
      ],
      "text/plain": [
       "                         f1_test  precision_test  recall_test  auc_test\n",
       "LogisticRegression      0.000000        0.000000     0.000000  0.500000\n",
       "DecisionTreeClassifier  0.011299        0.142857     0.005882  0.501302"
      ]
     },
     "metadata": {},
     "output_type": "display_data"
    }
   ],
   "source": [
    "easy_metrics_train, easy_metrics_val, easy_metrics_test = results_model_iteration(model_list)\n",
    "\n",
    "easy_metrics_train = pd.DataFrame(easy_metrics_train, columns=[\"f1_train\", \"precision_train\", \"recall_train\", \"auc_train\"], index=[\"LogisticRegression\", \"DecisionTreeClassifier\"])\n",
    "easy_metrics_val = pd.DataFrame(easy_metrics_val, columns=[\"f1_val\", \"precision_val\", \"recall_val\", \"auc_val\"], index=[\"LogisticRegression\", \"DecisionTreeClassifier\"])\n",
    "easy_metrics_test = pd.DataFrame(easy_metrics_test, columns=[\"f1_test\", \"precision_test\", \"recall_test\", \"auc_test\"], index=[\"LogisticRegression\", \"DecisionTreeClassifier\"])\n",
    "\n",
    "display(easy_metrics_train, easy_metrics_val, easy_metrics_test)"
   ]
  },
  {
   "cell_type": "markdown",
   "metadata": {},
   "source": [
    "### <a id='3'>3. Hard intepretability</a>\n",
    "----"
   ]
  },
  {
   "cell_type": "markdown",
   "metadata": {},
   "source": [
    "The same procedure is carried out, but this time with ensembles models."
   ]
  },
  {
   "cell_type": "code",
   "execution_count": 168,
   "metadata": {},
   "outputs": [],
   "source": [
    "hard_model_list = [RandomForestClassifier(random_state=42, class_weight='balanced_subsample'), XGBClassifier(seed = 42, scale_pos_weight = 11.76), LGBMClassifier(random_state = 42, scale_pos_weight = 11.76), CatBoostClassifier(random_seed = 42, scale_pos_weight = 11.76, allow_writing_files = False)]\n",
    "\n",
    "hard_model_params_list = [\n",
    "                            {\"n_estimators\": [100, 200, 300, 400, 500], \"criterion\": [\"gini\", \"entropy\"], \"max_depth\": [None, 2, 4, 7, 10], \"min_samples_split\": [2, 4, 7, 10], \"min_samples_leaf\": [2,  4, 7, 10]},\n",
    "                            {\"n_estimators\": [100, 200, 300, 400, 500], \"max_depth\": [None, 2, 4, 7, 10], \"learning_rate\": [0.001, 0.01, 0.1], \"subsample\": [0.5, 0.7, 0.9], \"gamma\": [0, 0.25, 0.5, 1], \"reg_alpha\": [0, 0.25, 0.5, 1], \"reg_lambda\": [0, 0.25, 0.5, 1]},\n",
    "                            {\"n_estimators\": [100, 200, 300, 400, 500], \"max_depth\": [None, 2, 4, 7, 10], \"learning_rate\": [0.001, 0.01, 0.1], \"subsample\": [0.5, 0.7, 0.9], \"reg_alpha\": [0, 0.25, 0.5, 1], \"reg_lambda\": [0, 0.25, 0.5, 1]},\n",
    "                            {\"iterations\": [100, 200, 300, 400, 500], \"depth\": [2, 4, 7, 10], \"learning_rate\": [0.001, 0.01, 0.1], \"subsample\": [0.5, 0.7, 0.9]}\n",
    "                        ]"
   ]
  },
  {
   "cell_type": "code",
   "execution_count": 169,
   "metadata": {},
   "outputs": [
    {
     "name": "stdout",
     "output_type": "stream",
     "text": [
      "RandomForestClassifier(class_weight='balanced_subsample', random_state=42)\n",
      "Fitting 5 folds for each of 1 candidates, totalling 5 fits\n",
      "Fitting 5 folds for each of 1 candidates, totalling 5 fits\n",
      "Fitting 5 folds for each of 1 candidates, totalling 5 fits\n",
      "Fitting 5 folds for each of 1 candidates, totalling 5 fits\n",
      "Fitting 5 folds for each of 1 candidates, totalling 5 fits\n",
      "Fitting 5 folds for each of 1 candidates, totalling 5 fits\n",
      "Fitting 5 folds for each of 1 candidates, totalling 5 fits\n",
      "Fitting 5 folds for each of 1 candidates, totalling 5 fits\n",
      "Fitting 5 folds for each of 1 candidates, totalling 5 fits\n",
      "Fitting 5 folds for each of 1 candidates, totalling 5 fits\n",
      "Best score: 0.7285757318910644\n",
      "Best params: OrderedDict([('criterion', 'entropy'), ('max_depth', 7), ('min_samples_leaf', 10), ('min_samples_split', 4), ('n_estimators', 400)])\n",
      "XGBClassifier(base_score=None, booster=None, colsample_bylevel=None,\n",
      "              colsample_bynode=None, colsample_bytree=None,\n",
      "              enable_categorical=False, gamma=None, gpu_id=None,\n",
      "              importance_type=None, interaction_constraints=None,\n",
      "              learning_rate=None, max_delta_step=None, max_depth=None,\n",
      "              min_child_weight=None, missing=nan, monotone_constraints=None,\n",
      "              n_estimators=100, n_jobs=None, num_parallel_tree=None,\n",
      "              predictor=None, random_state=None, reg_alpha=None,\n",
      "              reg_lambda=None, scale_pos_weight=11.76, seed=42, subsample=None,\n",
      "              tree_method=None, validate_parameters=None, verbosity=None)\n",
      "Fitting 5 folds for each of 1 candidates, totalling 5 fits\n",
      "Fitting 5 folds for each of 1 candidates, totalling 5 fits\n",
      "Fitting 5 folds for each of 1 candidates, totalling 5 fits\n",
      "Fitting 5 folds for each of 1 candidates, totalling 5 fits\n",
      "Fitting 5 folds for each of 1 candidates, totalling 5 fits\n",
      "Fitting 5 folds for each of 1 candidates, totalling 5 fits\n",
      "Fitting 5 folds for each of 1 candidates, totalling 5 fits\n",
      "Fitting 5 folds for each of 1 candidates, totalling 5 fits\n",
      "Fitting 5 folds for each of 1 candidates, totalling 5 fits\n",
      "Fitting 5 folds for each of 1 candidates, totalling 5 fits\n",
      "[20:27:06] WARNING: C:/Users/Administrator/workspace/xgboost-win64_release_1.5.1/src/learner.cc:1115: Starting in XGBoost 1.3.0, the default evaluation metric used with the objective 'binary:logistic' was changed from 'error' to 'logloss'. Explicitly set eval_metric if you'd like to restore the old behavior.\n",
      "Best score: 0.7275236088457293\n",
      "Best params: OrderedDict([('gamma', 1.0), ('learning_rate', 0.01), ('max_depth', 4), ('n_estimators', 500), ('reg_alpha', 0.0), ('reg_lambda', 0.25), ('subsample', 0.7)])\n",
      "LGBMClassifier(random_state=42, scale_pos_weight=11.76)\n",
      "Fitting 5 folds for each of 1 candidates, totalling 5 fits\n",
      "Fitting 5 folds for each of 1 candidates, totalling 5 fits\n",
      "Fitting 5 folds for each of 1 candidates, totalling 5 fits\n",
      "Fitting 5 folds for each of 1 candidates, totalling 5 fits\n",
      "Fitting 5 folds for each of 1 candidates, totalling 5 fits\n",
      "Fitting 5 folds for each of 1 candidates, totalling 5 fits\n",
      "Fitting 5 folds for each of 1 candidates, totalling 5 fits\n",
      "Fitting 5 folds for each of 1 candidates, totalling 5 fits\n",
      "Fitting 5 folds for each of 1 candidates, totalling 5 fits\n",
      "Fitting 5 folds for each of 1 candidates, totalling 5 fits\n",
      "Best score: 0.7269681943110993\n",
      "Best params: OrderedDict([('learning_rate', 0.01), ('max_depth', 2), ('n_estimators', 500), ('reg_alpha', 0.25), ('reg_lambda', 0.0), ('subsample', 0.5)])\n",
      "<catboost.core.CatBoostClassifier object at 0x0000018F87CD1580>\n",
      "Fitting 5 folds for each of 1 candidates, totalling 5 fits\n",
      "Fitting 5 folds for each of 1 candidates, totalling 5 fits\n",
      "Fitting 5 folds for each of 1 candidates, totalling 5 fits\n",
      "Fitting 5 folds for each of 1 candidates, totalling 5 fits\n",
      "Fitting 5 folds for each of 1 candidates, totalling 5 fits\n",
      "Fitting 5 folds for each of 1 candidates, totalling 5 fits\n",
      "Fitting 5 folds for each of 1 candidates, totalling 5 fits\n",
      "Fitting 5 folds for each of 1 candidates, totalling 5 fits\n",
      "Fitting 5 folds for each of 1 candidates, totalling 5 fits\n",
      "Fitting 5 folds for each of 1 candidates, totalling 5 fits\n",
      "0:\tlearn: 0.6918721\ttotal: 136ms\tremaining: 54.1s\n",
      "1:\tlearn: 0.6905129\ttotal: 138ms\tremaining: 27.5s\n",
      "2:\tlearn: 0.6893626\ttotal: 142ms\tremaining: 18.8s\n",
      "3:\tlearn: 0.6880356\ttotal: 144ms\tremaining: 14.3s\n",
      "4:\tlearn: 0.6869346\ttotal: 148ms\tremaining: 11.7s\n",
      "5:\tlearn: 0.6858937\ttotal: 151ms\tremaining: 9.92s\n",
      "6:\tlearn: 0.6846545\ttotal: 165ms\tremaining: 9.25s\n",
      "7:\tlearn: 0.6835457\ttotal: 168ms\tremaining: 8.24s\n",
      "8:\tlearn: 0.6824068\ttotal: 171ms\tremaining: 7.45s\n",
      "9:\tlearn: 0.6814148\ttotal: 174ms\tremaining: 6.79s\n",
      "10:\tlearn: 0.6802715\ttotal: 177ms\tremaining: 6.27s\n",
      "11:\tlearn: 0.6792607\ttotal: 180ms\tremaining: 5.83s\n",
      "12:\tlearn: 0.6781533\ttotal: 184ms\tremaining: 5.47s\n",
      "13:\tlearn: 0.6771877\ttotal: 187ms\tremaining: 5.16s\n",
      "14:\tlearn: 0.6760973\ttotal: 190ms\tremaining: 4.88s\n",
      "15:\tlearn: 0.6752226\ttotal: 194ms\tremaining: 4.65s\n",
      "16:\tlearn: 0.6743669\ttotal: 197ms\tremaining: 4.45s\n",
      "17:\tlearn: 0.6735243\ttotal: 200ms\tremaining: 4.25s\n",
      "18:\tlearn: 0.6724663\ttotal: 203ms\tremaining: 4.07s\n",
      "19:\tlearn: 0.6716453\ttotal: 206ms\tremaining: 3.91s\n",
      "20:\tlearn: 0.6708035\ttotal: 209ms\tremaining: 3.77s\n",
      "21:\tlearn: 0.6699575\ttotal: 212ms\tremaining: 3.65s\n",
      "22:\tlearn: 0.6691851\ttotal: 216ms\tremaining: 3.54s\n",
      "23:\tlearn: 0.6683023\ttotal: 219ms\tremaining: 3.43s\n",
      "24:\tlearn: 0.6672943\ttotal: 223ms\tremaining: 3.34s\n",
      "25:\tlearn: 0.6664350\ttotal: 226ms\tremaining: 3.25s\n",
      "26:\tlearn: 0.6655395\ttotal: 230ms\tremaining: 3.17s\n",
      "27:\tlearn: 0.6647357\ttotal: 233ms\tremaining: 3.09s\n",
      "28:\tlearn: 0.6639302\ttotal: 236ms\tremaining: 3.02s\n",
      "29:\tlearn: 0.6631446\ttotal: 239ms\tremaining: 2.94s\n",
      "30:\tlearn: 0.6623787\ttotal: 242ms\tremaining: 2.88s\n",
      "31:\tlearn: 0.6616702\ttotal: 245ms\tremaining: 2.82s\n",
      "32:\tlearn: 0.6608900\ttotal: 248ms\tremaining: 2.76s\n",
      "33:\tlearn: 0.6601152\ttotal: 251ms\tremaining: 2.71s\n",
      "34:\tlearn: 0.6593423\ttotal: 254ms\tremaining: 2.65s\n",
      "35:\tlearn: 0.6585391\ttotal: 257ms\tremaining: 2.6s\n",
      "36:\tlearn: 0.6578660\ttotal: 260ms\tremaining: 2.55s\n",
      "37:\tlearn: 0.6571803\ttotal: 264ms\tremaining: 2.52s\n",
      "38:\tlearn: 0.6565209\ttotal: 267ms\tremaining: 2.47s\n",
      "39:\tlearn: 0.6557741\ttotal: 274ms\tremaining: 2.46s\n",
      "40:\tlearn: 0.6551584\ttotal: 292ms\tremaining: 2.56s\n",
      "41:\tlearn: 0.6545065\ttotal: 297ms\tremaining: 2.53s\n",
      "42:\tlearn: 0.6538304\ttotal: 301ms\tremaining: 2.5s\n",
      "43:\tlearn: 0.6532203\ttotal: 308ms\tremaining: 2.49s\n",
      "44:\tlearn: 0.6524450\ttotal: 314ms\tremaining: 2.48s\n",
      "45:\tlearn: 0.6517494\ttotal: 319ms\tremaining: 2.46s\n",
      "46:\tlearn: 0.6511389\ttotal: 323ms\tremaining: 2.42s\n",
      "47:\tlearn: 0.6505447\ttotal: 327ms\tremaining: 2.4s\n",
      "48:\tlearn: 0.6500652\ttotal: 330ms\tremaining: 2.37s\n",
      "49:\tlearn: 0.6494993\ttotal: 333ms\tremaining: 2.33s\n",
      "50:\tlearn: 0.6489950\ttotal: 337ms\tremaining: 2.31s\n",
      "51:\tlearn: 0.6484882\ttotal: 340ms\tremaining: 2.27s\n",
      "52:\tlearn: 0.6478932\ttotal: 344ms\tremaining: 2.25s\n",
      "53:\tlearn: 0.6473301\ttotal: 347ms\tremaining: 2.22s\n",
      "54:\tlearn: 0.6467347\ttotal: 350ms\tremaining: 2.19s\n",
      "55:\tlearn: 0.6461206\ttotal: 353ms\tremaining: 2.17s\n",
      "56:\tlearn: 0.6456701\ttotal: 357ms\tremaining: 2.15s\n",
      "57:\tlearn: 0.6450446\ttotal: 360ms\tremaining: 2.12s\n",
      "58:\tlearn: 0.6444734\ttotal: 364ms\tremaining: 2.1s\n",
      "59:\tlearn: 0.6440026\ttotal: 367ms\tremaining: 2.08s\n",
      "60:\tlearn: 0.6435721\ttotal: 370ms\tremaining: 2.06s\n",
      "61:\tlearn: 0.6428948\ttotal: 378ms\tremaining: 2.06s\n",
      "62:\tlearn: 0.6423637\ttotal: 387ms\tremaining: 2.07s\n",
      "63:\tlearn: 0.6419395\ttotal: 397ms\tremaining: 2.08s\n",
      "64:\tlearn: 0.6414576\ttotal: 405ms\tremaining: 2.09s\n",
      "65:\tlearn: 0.6409771\ttotal: 415ms\tremaining: 2.1s\n",
      "66:\tlearn: 0.6404957\ttotal: 425ms\tremaining: 2.11s\n",
      "67:\tlearn: 0.6400352\ttotal: 432ms\tremaining: 2.11s\n",
      "68:\tlearn: 0.6396589\ttotal: 435ms\tremaining: 2.08s\n",
      "69:\tlearn: 0.6392205\ttotal: 438ms\tremaining: 2.07s\n",
      "70:\tlearn: 0.6387644\ttotal: 443ms\tremaining: 2.05s\n",
      "71:\tlearn: 0.6382784\ttotal: 447ms\tremaining: 2.04s\n",
      "72:\tlearn: 0.6377443\ttotal: 452ms\tremaining: 2.02s\n",
      "73:\tlearn: 0.6371940\ttotal: 459ms\tremaining: 2.02s\n",
      "74:\tlearn: 0.6367612\ttotal: 462ms\tremaining: 2s\n",
      "75:\tlearn: 0.6363753\ttotal: 466ms\tremaining: 1.99s\n",
      "76:\tlearn: 0.6359533\ttotal: 468ms\tremaining: 1.96s\n",
      "77:\tlearn: 0.6355373\ttotal: 472ms\tremaining: 1.95s\n",
      "78:\tlearn: 0.6351607\ttotal: 475ms\tremaining: 1.93s\n",
      "79:\tlearn: 0.6347844\ttotal: 478ms\tremaining: 1.91s\n",
      "80:\tlearn: 0.6344494\ttotal: 482ms\tremaining: 1.9s\n",
      "81:\tlearn: 0.6339295\ttotal: 485ms\tremaining: 1.88s\n",
      "82:\tlearn: 0.6336646\ttotal: 488ms\tremaining: 1.86s\n",
      "83:\tlearn: 0.6332400\ttotal: 491ms\tremaining: 1.85s\n",
      "84:\tlearn: 0.6329320\ttotal: 495ms\tremaining: 1.83s\n",
      "85:\tlearn: 0.6325004\ttotal: 498ms\tremaining: 1.82s\n",
      "86:\tlearn: 0.6320904\ttotal: 501ms\tremaining: 1.8s\n",
      "87:\tlearn: 0.6317517\ttotal: 505ms\tremaining: 1.79s\n",
      "88:\tlearn: 0.6313833\ttotal: 508ms\tremaining: 1.77s\n",
      "89:\tlearn: 0.6309680\ttotal: 512ms\tremaining: 1.76s\n",
      "90:\tlearn: 0.6306227\ttotal: 515ms\tremaining: 1.75s\n",
      "91:\tlearn: 0.6303485\ttotal: 519ms\tremaining: 1.74s\n",
      "92:\tlearn: 0.6299998\ttotal: 522ms\tremaining: 1.72s\n",
      "93:\tlearn: 0.6297843\ttotal: 525ms\tremaining: 1.71s\n",
      "94:\tlearn: 0.6294390\ttotal: 528ms\tremaining: 1.69s\n",
      "95:\tlearn: 0.6291106\ttotal: 530ms\tremaining: 1.68s\n",
      "96:\tlearn: 0.6287283\ttotal: 533ms\tremaining: 1.66s\n",
      "97:\tlearn: 0.6284706\ttotal: 536ms\tremaining: 1.65s\n",
      "98:\tlearn: 0.6281245\ttotal: 539ms\tremaining: 1.64s\n",
      "99:\tlearn: 0.6278500\ttotal: 542ms\tremaining: 1.63s\n",
      "100:\tlearn: 0.6276342\ttotal: 545ms\tremaining: 1.61s\n",
      "101:\tlearn: 0.6273585\ttotal: 548ms\tremaining: 1.6s\n",
      "102:\tlearn: 0.6270544\ttotal: 551ms\tremaining: 1.59s\n",
      "103:\tlearn: 0.6266454\ttotal: 555ms\tremaining: 1.58s\n",
      "104:\tlearn: 0.6263012\ttotal: 559ms\tremaining: 1.57s\n",
      "105:\tlearn: 0.6259633\ttotal: 562ms\tremaining: 1.56s\n",
      "106:\tlearn: 0.6256663\ttotal: 565ms\tremaining: 1.54s\n",
      "107:\tlearn: 0.6253314\ttotal: 568ms\tremaining: 1.53s\n",
      "108:\tlearn: 0.6250136\ttotal: 571ms\tremaining: 1.52s\n",
      "109:\tlearn: 0.6247460\ttotal: 575ms\tremaining: 1.51s\n",
      "110:\tlearn: 0.6244594\ttotal: 578ms\tremaining: 1.5s\n",
      "111:\tlearn: 0.6242689\ttotal: 581ms\tremaining: 1.49s\n",
      "112:\tlearn: 0.6239755\ttotal: 585ms\tremaining: 1.49s\n",
      "113:\tlearn: 0.6236912\ttotal: 588ms\tremaining: 1.48s\n",
      "114:\tlearn: 0.6234094\ttotal: 591ms\tremaining: 1.46s\n",
      "115:\tlearn: 0.6232107\ttotal: 594ms\tremaining: 1.45s\n",
      "116:\tlearn: 0.6230309\ttotal: 598ms\tremaining: 1.45s\n",
      "117:\tlearn: 0.6228405\ttotal: 601ms\tremaining: 1.44s\n",
      "118:\tlearn: 0.6225979\ttotal: 603ms\tremaining: 1.42s\n",
      "119:\tlearn: 0.6223534\ttotal: 606ms\tremaining: 1.42s\n",
      "120:\tlearn: 0.6220818\ttotal: 609ms\tremaining: 1.4s\n",
      "121:\tlearn: 0.6218208\ttotal: 613ms\tremaining: 1.4s\n",
      "122:\tlearn: 0.6216668\ttotal: 616ms\tremaining: 1.39s\n",
      "123:\tlearn: 0.6214817\ttotal: 619ms\tremaining: 1.38s\n",
      "124:\tlearn: 0.6211994\ttotal: 622ms\tremaining: 1.37s\n",
      "125:\tlearn: 0.6209876\ttotal: 626ms\tremaining: 1.36s\n",
      "126:\tlearn: 0.6207659\ttotal: 629ms\tremaining: 1.35s\n",
      "127:\tlearn: 0.6205639\ttotal: 634ms\tremaining: 1.35s\n",
      "128:\tlearn: 0.6202450\ttotal: 638ms\tremaining: 1.34s\n",
      "129:\tlearn: 0.6200098\ttotal: 642ms\tremaining: 1.33s\n",
      "130:\tlearn: 0.6198182\ttotal: 645ms\tremaining: 1.32s\n",
      "131:\tlearn: 0.6195590\ttotal: 649ms\tremaining: 1.32s\n",
      "132:\tlearn: 0.6193805\ttotal: 653ms\tremaining: 1.31s\n",
      "133:\tlearn: 0.6191942\ttotal: 656ms\tremaining: 1.3s\n",
      "134:\tlearn: 0.6189974\ttotal: 674ms\tremaining: 1.32s\n",
      "135:\tlearn: 0.6187660\ttotal: 678ms\tremaining: 1.31s\n",
      "136:\tlearn: 0.6185761\ttotal: 681ms\tremaining: 1.31s\n",
      "137:\tlearn: 0.6184038\ttotal: 684ms\tremaining: 1.3s\n",
      "138:\tlearn: 0.6182377\ttotal: 687ms\tremaining: 1.29s\n",
      "139:\tlearn: 0.6180292\ttotal: 690ms\tremaining: 1.28s\n",
      "140:\tlearn: 0.6177874\ttotal: 694ms\tremaining: 1.27s\n",
      "141:\tlearn: 0.6175743\ttotal: 697ms\tremaining: 1.27s\n",
      "142:\tlearn: 0.6173582\ttotal: 701ms\tremaining: 1.26s\n",
      "143:\tlearn: 0.6171656\ttotal: 704ms\tremaining: 1.25s\n",
      "144:\tlearn: 0.6169351\ttotal: 708ms\tremaining: 1.25s\n",
      "145:\tlearn: 0.6166751\ttotal: 711ms\tremaining: 1.24s\n",
      "146:\tlearn: 0.6165165\ttotal: 715ms\tremaining: 1.23s\n",
      "147:\tlearn: 0.6163717\ttotal: 718ms\tremaining: 1.22s\n",
      "148:\tlearn: 0.6161496\ttotal: 722ms\tremaining: 1.22s\n",
      "149:\tlearn: 0.6159741\ttotal: 724ms\tremaining: 1.21s\n",
      "150:\tlearn: 0.6157922\ttotal: 727ms\tremaining: 1.2s\n",
      "151:\tlearn: 0.6154978\ttotal: 731ms\tremaining: 1.19s\n",
      "152:\tlearn: 0.6152428\ttotal: 734ms\tremaining: 1.19s\n",
      "153:\tlearn: 0.6150651\ttotal: 737ms\tremaining: 1.18s\n",
      "154:\tlearn: 0.6149065\ttotal: 741ms\tremaining: 1.17s\n",
      "155:\tlearn: 0.6147345\ttotal: 743ms\tremaining: 1.16s\n",
      "156:\tlearn: 0.6145565\ttotal: 747ms\tremaining: 1.16s\n",
      "157:\tlearn: 0.6143958\ttotal: 750ms\tremaining: 1.15s\n",
      "158:\tlearn: 0.6142281\ttotal: 754ms\tremaining: 1.14s\n",
      "159:\tlearn: 0.6140141\ttotal: 756ms\tremaining: 1.13s\n",
      "160:\tlearn: 0.6137672\ttotal: 760ms\tremaining: 1.13s\n",
      "161:\tlearn: 0.6135295\ttotal: 763ms\tremaining: 1.12s\n",
      "162:\tlearn: 0.6133414\ttotal: 765ms\tremaining: 1.11s\n",
      "163:\tlearn: 0.6131839\ttotal: 769ms\tremaining: 1.1s\n",
      "164:\tlearn: 0.6130428\ttotal: 771ms\tremaining: 1.1s\n",
      "165:\tlearn: 0.6128825\ttotal: 774ms\tremaining: 1.09s\n",
      "166:\tlearn: 0.6127178\ttotal: 777ms\tremaining: 1.08s\n",
      "167:\tlearn: 0.6125927\ttotal: 780ms\tremaining: 1.08s\n",
      "168:\tlearn: 0.6124408\ttotal: 783ms\tremaining: 1.07s\n",
      "169:\tlearn: 0.6123265\ttotal: 787ms\tremaining: 1.06s\n",
      "170:\tlearn: 0.6121950\ttotal: 790ms\tremaining: 1.06s\n",
      "171:\tlearn: 0.6120786\ttotal: 795ms\tremaining: 1.05s\n",
      "172:\tlearn: 0.6118963\ttotal: 798ms\tremaining: 1.05s\n",
      "173:\tlearn: 0.6117397\ttotal: 802ms\tremaining: 1.04s\n",
      "174:\tlearn: 0.6116241\ttotal: 804ms\tremaining: 1.03s\n",
      "175:\tlearn: 0.6114453\ttotal: 808ms\tremaining: 1.03s\n",
      "176:\tlearn: 0.6112925\ttotal: 811ms\tremaining: 1.02s\n",
      "177:\tlearn: 0.6111321\ttotal: 816ms\tremaining: 1.02s\n",
      "178:\tlearn: 0.6108685\ttotal: 820ms\tremaining: 1.01s\n",
      "179:\tlearn: 0.6107697\ttotal: 824ms\tremaining: 1.01s\n",
      "180:\tlearn: 0.6105897\ttotal: 828ms\tremaining: 1s\n",
      "181:\tlearn: 0.6105076\ttotal: 832ms\tremaining: 996ms\n",
      "182:\tlearn: 0.6103529\ttotal: 835ms\tremaining: 990ms\n",
      "183:\tlearn: 0.6102026\ttotal: 838ms\tremaining: 984ms\n",
      "184:\tlearn: 0.6100434\ttotal: 843ms\tremaining: 979ms\n",
      "185:\tlearn: 0.6099482\ttotal: 847ms\tremaining: 974ms\n",
      "186:\tlearn: 0.6098435\ttotal: 850ms\tremaining: 968ms\n",
      "187:\tlearn: 0.6097123\ttotal: 854ms\tremaining: 963ms\n",
      "188:\tlearn: 0.6095405\ttotal: 857ms\tremaining: 957ms\n",
      "189:\tlearn: 0.6093892\ttotal: 860ms\tremaining: 951ms\n",
      "190:\tlearn: 0.6092892\ttotal: 863ms\tremaining: 945ms\n",
      "191:\tlearn: 0.6091363\ttotal: 867ms\tremaining: 939ms\n",
      "192:\tlearn: 0.6090127\ttotal: 871ms\tremaining: 934ms\n",
      "193:\tlearn: 0.6088619\ttotal: 874ms\tremaining: 928ms\n",
      "194:\tlearn: 0.6087046\ttotal: 878ms\tremaining: 923ms\n",
      "195:\tlearn: 0.6085220\ttotal: 882ms\tremaining: 918ms\n",
      "196:\tlearn: 0.6084204\ttotal: 885ms\tremaining: 912ms\n",
      "197:\tlearn: 0.6082439\ttotal: 889ms\tremaining: 907ms\n",
      "198:\tlearn: 0.6081332\ttotal: 893ms\tremaining: 902ms\n",
      "199:\tlearn: 0.6080052\ttotal: 897ms\tremaining: 897ms\n",
      "200:\tlearn: 0.6078785\ttotal: 900ms\tremaining: 891ms\n",
      "201:\tlearn: 0.6077305\ttotal: 903ms\tremaining: 885ms\n",
      "202:\tlearn: 0.6076333\ttotal: 906ms\tremaining: 879ms\n",
      "203:\tlearn: 0.6075516\ttotal: 910ms\tremaining: 874ms\n",
      "204:\tlearn: 0.6074257\ttotal: 912ms\tremaining: 868ms\n",
      "205:\tlearn: 0.6073110\ttotal: 916ms\tremaining: 863ms\n",
      "206:\tlearn: 0.6071767\ttotal: 928ms\tremaining: 865ms\n",
      "207:\tlearn: 0.6070698\ttotal: 936ms\tremaining: 864ms\n",
      "208:\tlearn: 0.6069453\ttotal: 941ms\tremaining: 860ms\n",
      "209:\tlearn: 0.6068440\ttotal: 945ms\tremaining: 855ms\n",
      "210:\tlearn: 0.6067423\ttotal: 950ms\tremaining: 851ms\n",
      "211:\tlearn: 0.6066756\ttotal: 954ms\tremaining: 846ms\n",
      "212:\tlearn: 0.6065952\ttotal: 958ms\tremaining: 841ms\n",
      "213:\tlearn: 0.6064187\ttotal: 960ms\tremaining: 835ms\n",
      "214:\tlearn: 0.6062914\ttotal: 964ms\tremaining: 829ms\n",
      "215:\tlearn: 0.6060821\ttotal: 967ms\tremaining: 824ms\n",
      "216:\tlearn: 0.6059723\ttotal: 969ms\tremaining: 817ms\n",
      "217:\tlearn: 0.6058301\ttotal: 972ms\tremaining: 811ms\n",
      "218:\tlearn: 0.6057131\ttotal: 975ms\tremaining: 805ms\n",
      "219:\tlearn: 0.6056229\ttotal: 977ms\tremaining: 800ms\n",
      "220:\tlearn: 0.6054723\ttotal: 980ms\tremaining: 794ms\n",
      "221:\tlearn: 0.6053511\ttotal: 983ms\tremaining: 788ms\n",
      "222:\tlearn: 0.6052360\ttotal: 986ms\tremaining: 783ms\n",
      "223:\tlearn: 0.6051233\ttotal: 989ms\tremaining: 777ms\n",
      "224:\tlearn: 0.6049903\ttotal: 992ms\tremaining: 772ms\n",
      "225:\tlearn: 0.6048987\ttotal: 995ms\tremaining: 766ms\n",
      "226:\tlearn: 0.6048076\ttotal: 999ms\tremaining: 761ms\n",
      "227:\tlearn: 0.6046958\ttotal: 1s\tremaining: 756ms\n",
      "228:\tlearn: 0.6045735\ttotal: 1s\tremaining: 751ms\n",
      "229:\tlearn: 0.6044595\ttotal: 1.01s\tremaining: 745ms\n",
      "230:\tlearn: 0.6043296\ttotal: 1.01s\tremaining: 740ms\n",
      "231:\tlearn: 0.6041873\ttotal: 1.01s\tremaining: 734ms\n",
      "232:\tlearn: 0.6040825\ttotal: 1.02s\tremaining: 729ms\n",
      "233:\tlearn: 0.6039150\ttotal: 1.02s\tremaining: 724ms\n",
      "234:\tlearn: 0.6037791\ttotal: 1.02s\tremaining: 719ms\n",
      "235:\tlearn: 0.6037004\ttotal: 1.03s\tremaining: 714ms\n",
      "236:\tlearn: 0.6036075\ttotal: 1.03s\tremaining: 708ms\n",
      "237:\tlearn: 0.6035404\ttotal: 1.03s\tremaining: 703ms\n",
      "238:\tlearn: 0.6034267\ttotal: 1.04s\tremaining: 698ms\n",
      "239:\tlearn: 0.6033142\ttotal: 1.04s\tremaining: 693ms\n",
      "240:\tlearn: 0.6032326\ttotal: 1.04s\tremaining: 688ms\n",
      "241:\tlearn: 0.6031373\ttotal: 1.04s\tremaining: 683ms\n",
      "242:\tlearn: 0.6030273\ttotal: 1.05s\tremaining: 678ms\n",
      "243:\tlearn: 0.6028741\ttotal: 1.05s\tremaining: 673ms\n",
      "244:\tlearn: 0.6027905\ttotal: 1.05s\tremaining: 668ms\n",
      "245:\tlearn: 0.6026475\ttotal: 1.06s\tremaining: 663ms\n",
      "246:\tlearn: 0.6025549\ttotal: 1.06s\tremaining: 658ms\n",
      "247:\tlearn: 0.6024460\ttotal: 1.06s\tremaining: 653ms\n",
      "248:\tlearn: 0.6023108\ttotal: 1.07s\tremaining: 647ms\n",
      "249:\tlearn: 0.6021800\ttotal: 1.07s\tremaining: 642ms\n",
      "250:\tlearn: 0.6020524\ttotal: 1.07s\tremaining: 637ms\n",
      "251:\tlearn: 0.6019384\ttotal: 1.07s\tremaining: 632ms\n",
      "252:\tlearn: 0.6018221\ttotal: 1.08s\tremaining: 627ms\n",
      "253:\tlearn: 0.6016824\ttotal: 1.08s\tremaining: 622ms\n",
      "254:\tlearn: 0.6016075\ttotal: 1.08s\tremaining: 618ms\n",
      "255:\tlearn: 0.6015132\ttotal: 1.09s\tremaining: 612ms\n",
      "256:\tlearn: 0.6014102\ttotal: 1.09s\tremaining: 607ms\n",
      "257:\tlearn: 0.6013443\ttotal: 1.09s\tremaining: 602ms\n",
      "258:\tlearn: 0.6012227\ttotal: 1.1s\tremaining: 597ms\n",
      "259:\tlearn: 0.6011007\ttotal: 1.1s\tremaining: 592ms\n",
      "260:\tlearn: 0.6010357\ttotal: 1.1s\tremaining: 587ms\n",
      "261:\tlearn: 0.6009619\ttotal: 1.11s\tremaining: 583ms\n",
      "262:\tlearn: 0.6008691\ttotal: 1.11s\tremaining: 578ms\n",
      "263:\tlearn: 0.6007823\ttotal: 1.11s\tremaining: 574ms\n",
      "264:\tlearn: 0.6006983\ttotal: 1.12s\tremaining: 569ms\n",
      "265:\tlearn: 0.6006160\ttotal: 1.12s\tremaining: 564ms\n",
      "266:\tlearn: 0.6005125\ttotal: 1.12s\tremaining: 559ms\n",
      "267:\tlearn: 0.6004136\ttotal: 1.13s\tremaining: 555ms\n",
      "268:\tlearn: 0.6003595\ttotal: 1.13s\tremaining: 550ms\n",
      "269:\tlearn: 0.6002882\ttotal: 1.13s\tremaining: 545ms\n",
      "270:\tlearn: 0.6001863\ttotal: 1.14s\tremaining: 541ms\n",
      "271:\tlearn: 0.6000675\ttotal: 1.14s\tremaining: 536ms\n",
      "272:\tlearn: 0.5999875\ttotal: 1.14s\tremaining: 532ms\n",
      "273:\tlearn: 0.5999239\ttotal: 1.15s\tremaining: 527ms\n",
      "274:\tlearn: 0.5997759\ttotal: 1.15s\tremaining: 522ms\n",
      "275:\tlearn: 0.5996900\ttotal: 1.15s\tremaining: 517ms\n",
      "276:\tlearn: 0.5995482\ttotal: 1.15s\tremaining: 513ms\n",
      "277:\tlearn: 0.5994650\ttotal: 1.16s\tremaining: 508ms\n",
      "278:\tlearn: 0.5993642\ttotal: 1.16s\tremaining: 503ms\n",
      "279:\tlearn: 0.5991971\ttotal: 1.16s\tremaining: 498ms\n",
      "280:\tlearn: 0.5990683\ttotal: 1.17s\tremaining: 494ms\n",
      "281:\tlearn: 0.5989894\ttotal: 1.17s\tremaining: 489ms\n",
      "282:\tlearn: 0.5989143\ttotal: 1.17s\tremaining: 485ms\n",
      "283:\tlearn: 0.5988351\ttotal: 1.17s\tremaining: 480ms\n",
      "284:\tlearn: 0.5987468\ttotal: 1.18s\tremaining: 475ms\n",
      "285:\tlearn: 0.5986434\ttotal: 1.18s\tremaining: 471ms\n",
      "286:\tlearn: 0.5986017\ttotal: 1.19s\tremaining: 467ms\n",
      "287:\tlearn: 0.5985377\ttotal: 1.19s\tremaining: 462ms\n",
      "288:\tlearn: 0.5984517\ttotal: 1.19s\tremaining: 458ms\n",
      "289:\tlearn: 0.5983517\ttotal: 1.2s\tremaining: 453ms\n",
      "290:\tlearn: 0.5982818\ttotal: 1.2s\tremaining: 450ms\n",
      "291:\tlearn: 0.5982217\ttotal: 1.2s\tremaining: 445ms\n",
      "292:\tlearn: 0.5981067\ttotal: 1.21s\tremaining: 441ms\n",
      "293:\tlearn: 0.5980354\ttotal: 1.21s\tremaining: 436ms\n",
      "294:\tlearn: 0.5979365\ttotal: 1.21s\tremaining: 432ms\n",
      "295:\tlearn: 0.5978699\ttotal: 1.22s\tremaining: 427ms\n",
      "296:\tlearn: 0.5977882\ttotal: 1.22s\tremaining: 423ms\n",
      "297:\tlearn: 0.5977441\ttotal: 1.22s\tremaining: 419ms\n",
      "298:\tlearn: 0.5976569\ttotal: 1.23s\tremaining: 414ms\n",
      "299:\tlearn: 0.5975470\ttotal: 1.23s\tremaining: 410ms\n",
      "300:\tlearn: 0.5974529\ttotal: 1.23s\tremaining: 405ms\n",
      "301:\tlearn: 0.5973303\ttotal: 1.24s\tremaining: 401ms\n",
      "302:\tlearn: 0.5972851\ttotal: 1.24s\tremaining: 397ms\n",
      "303:\tlearn: 0.5971995\ttotal: 1.24s\tremaining: 392ms\n",
      "304:\tlearn: 0.5971422\ttotal: 1.24s\tremaining: 388ms\n",
      "305:\tlearn: 0.5970466\ttotal: 1.25s\tremaining: 383ms\n",
      "306:\tlearn: 0.5969934\ttotal: 1.25s\tremaining: 379ms\n",
      "307:\tlearn: 0.5968877\ttotal: 1.25s\tremaining: 375ms\n",
      "308:\tlearn: 0.5968124\ttotal: 1.26s\tremaining: 370ms\n",
      "309:\tlearn: 0.5967340\ttotal: 1.26s\tremaining: 366ms\n",
      "310:\tlearn: 0.5966161\ttotal: 1.26s\tremaining: 361ms\n",
      "311:\tlearn: 0.5965507\ttotal: 1.26s\tremaining: 357ms\n",
      "312:\tlearn: 0.5964896\ttotal: 1.27s\tremaining: 353ms\n",
      "313:\tlearn: 0.5964174\ttotal: 1.27s\tremaining: 348ms\n",
      "314:\tlearn: 0.5963179\ttotal: 1.27s\tremaining: 344ms\n",
      "315:\tlearn: 0.5961967\ttotal: 1.28s\tremaining: 340ms\n",
      "316:\tlearn: 0.5960662\ttotal: 1.28s\tremaining: 336ms\n",
      "317:\tlearn: 0.5960190\ttotal: 1.28s\tremaining: 332ms\n",
      "318:\tlearn: 0.5959118\ttotal: 1.29s\tremaining: 327ms\n",
      "319:\tlearn: 0.5958397\ttotal: 1.29s\tremaining: 323ms\n",
      "320:\tlearn: 0.5958034\ttotal: 1.29s\tremaining: 319ms\n",
      "321:\tlearn: 0.5956911\ttotal: 1.3s\tremaining: 315ms\n",
      "322:\tlearn: 0.5955889\ttotal: 1.3s\tremaining: 311ms\n",
      "323:\tlearn: 0.5955313\ttotal: 1.31s\tremaining: 306ms\n",
      "324:\tlearn: 0.5954395\ttotal: 1.31s\tremaining: 302ms\n",
      "325:\tlearn: 0.5953276\ttotal: 1.31s\tremaining: 298ms\n",
      "326:\tlearn: 0.5952338\ttotal: 1.32s\tremaining: 294ms\n",
      "327:\tlearn: 0.5951638\ttotal: 1.32s\tremaining: 290ms\n",
      "328:\tlearn: 0.5951029\ttotal: 1.32s\tremaining: 285ms\n",
      "329:\tlearn: 0.5949950\ttotal: 1.32s\tremaining: 281ms\n",
      "330:\tlearn: 0.5949188\ttotal: 1.33s\tremaining: 277ms\n",
      "331:\tlearn: 0.5948131\ttotal: 1.33s\tremaining: 273ms\n",
      "332:\tlearn: 0.5947499\ttotal: 1.34s\tremaining: 269ms\n",
      "333:\tlearn: 0.5946848\ttotal: 1.34s\tremaining: 265ms\n",
      "334:\tlearn: 0.5946191\ttotal: 1.34s\tremaining: 260ms\n",
      "335:\tlearn: 0.5945429\ttotal: 1.34s\tremaining: 256ms\n",
      "336:\tlearn: 0.5944468\ttotal: 1.35s\tremaining: 252ms\n",
      "337:\tlearn: 0.5943914\ttotal: 1.35s\tremaining: 248ms\n",
      "338:\tlearn: 0.5943251\ttotal: 1.35s\tremaining: 244ms\n",
      "339:\tlearn: 0.5942381\ttotal: 1.36s\tremaining: 239ms\n",
      "340:\tlearn: 0.5941956\ttotal: 1.36s\tremaining: 235ms\n",
      "341:\tlearn: 0.5941017\ttotal: 1.38s\tremaining: 234ms\n",
      "342:\tlearn: 0.5940195\ttotal: 1.38s\tremaining: 229ms\n",
      "343:\tlearn: 0.5939262\ttotal: 1.38s\tremaining: 225ms\n",
      "344:\tlearn: 0.5937834\ttotal: 1.39s\tremaining: 221ms\n",
      "345:\tlearn: 0.5936770\ttotal: 1.39s\tremaining: 217ms\n",
      "346:\tlearn: 0.5935602\ttotal: 1.39s\tremaining: 213ms\n",
      "347:\tlearn: 0.5935305\ttotal: 1.4s\tremaining: 209ms\n",
      "348:\tlearn: 0.5934358\ttotal: 1.4s\tremaining: 205ms\n",
      "349:\tlearn: 0.5933663\ttotal: 1.4s\tremaining: 200ms\n",
      "350:\tlearn: 0.5933030\ttotal: 1.41s\tremaining: 196ms\n",
      "351:\tlearn: 0.5932466\ttotal: 1.41s\tremaining: 192ms\n",
      "352:\tlearn: 0.5932122\ttotal: 1.41s\tremaining: 188ms\n",
      "353:\tlearn: 0.5931231\ttotal: 1.42s\tremaining: 184ms\n",
      "354:\tlearn: 0.5930350\ttotal: 1.42s\tremaining: 180ms\n",
      "355:\tlearn: 0.5929643\ttotal: 1.42s\tremaining: 176ms\n",
      "356:\tlearn: 0.5929094\ttotal: 1.42s\tremaining: 172ms\n",
      "357:\tlearn: 0.5928694\ttotal: 1.43s\tremaining: 167ms\n",
      "358:\tlearn: 0.5927995\ttotal: 1.43s\tremaining: 163ms\n",
      "359:\tlearn: 0.5926765\ttotal: 1.44s\tremaining: 159ms\n",
      "360:\tlearn: 0.5926235\ttotal: 1.44s\tremaining: 155ms\n",
      "361:\tlearn: 0.5925522\ttotal: 1.44s\tremaining: 151ms\n",
      "362:\tlearn: 0.5925075\ttotal: 1.45s\tremaining: 147ms\n",
      "363:\tlearn: 0.5924355\ttotal: 1.45s\tremaining: 143ms\n",
      "364:\tlearn: 0.5924009\ttotal: 1.45s\tremaining: 139ms\n",
      "365:\tlearn: 0.5923082\ttotal: 1.46s\tremaining: 135ms\n",
      "366:\tlearn: 0.5922554\ttotal: 1.46s\tremaining: 131ms\n",
      "367:\tlearn: 0.5922163\ttotal: 1.46s\tremaining: 127ms\n",
      "368:\tlearn: 0.5921652\ttotal: 1.46s\tremaining: 123ms\n",
      "369:\tlearn: 0.5920976\ttotal: 1.47s\tremaining: 119ms\n",
      "370:\tlearn: 0.5919944\ttotal: 1.47s\tremaining: 115ms\n",
      "371:\tlearn: 0.5918702\ttotal: 1.47s\tremaining: 111ms\n",
      "372:\tlearn: 0.5918471\ttotal: 1.48s\tremaining: 107ms\n",
      "373:\tlearn: 0.5917650\ttotal: 1.48s\tremaining: 103ms\n",
      "374:\tlearn: 0.5916821\ttotal: 1.48s\tremaining: 98.9ms\n",
      "375:\tlearn: 0.5916131\ttotal: 1.49s\tremaining: 94.8ms\n",
      "376:\tlearn: 0.5915705\ttotal: 1.49s\tremaining: 90.8ms\n",
      "377:\tlearn: 0.5915061\ttotal: 1.49s\tremaining: 86.9ms\n",
      "378:\tlearn: 0.5914510\ttotal: 1.5s\tremaining: 82.9ms\n",
      "379:\tlearn: 0.5914328\ttotal: 1.5s\tremaining: 78.9ms\n",
      "380:\tlearn: 0.5913841\ttotal: 1.5s\tremaining: 74.9ms\n",
      "381:\tlearn: 0.5913179\ttotal: 1.5s\tremaining: 70.9ms\n",
      "382:\tlearn: 0.5912753\ttotal: 1.51s\tremaining: 66.9ms\n",
      "383:\tlearn: 0.5911939\ttotal: 1.51s\tremaining: 63ms\n",
      "384:\tlearn: 0.5911387\ttotal: 1.51s\tremaining: 59ms\n",
      "385:\tlearn: 0.5910769\ttotal: 1.52s\tremaining: 55.1ms\n",
      "386:\tlearn: 0.5909717\ttotal: 1.52s\tremaining: 51.1ms\n",
      "387:\tlearn: 0.5909409\ttotal: 1.52s\tremaining: 47.2ms\n",
      "388:\tlearn: 0.5908960\ttotal: 1.53s\tremaining: 43.2ms\n",
      "389:\tlearn: 0.5908284\ttotal: 1.53s\tremaining: 39.2ms\n",
      "390:\tlearn: 0.5907657\ttotal: 1.53s\tremaining: 35.3ms\n",
      "391:\tlearn: 0.5906826\ttotal: 1.54s\tremaining: 31.4ms\n",
      "392:\tlearn: 0.5906274\ttotal: 1.54s\tremaining: 27.4ms\n",
      "393:\tlearn: 0.5905788\ttotal: 1.54s\tremaining: 23.5ms\n",
      "394:\tlearn: 0.5905142\ttotal: 1.54s\tremaining: 19.6ms\n",
      "395:\tlearn: 0.5904696\ttotal: 1.55s\tremaining: 15.6ms\n",
      "396:\tlearn: 0.5904261\ttotal: 1.55s\tremaining: 11.7ms\n",
      "397:\tlearn: 0.5903772\ttotal: 1.55s\tremaining: 7.81ms\n",
      "398:\tlearn: 0.5902894\ttotal: 1.56s\tremaining: 3.9ms\n",
      "399:\tlearn: 0.5902512\ttotal: 1.56s\tremaining: 0us\n",
      "Best score: 0.7334876868722958\n",
      "Best params: OrderedDict([('depth', 4), ('iterations', 400), ('learning_rate', 0.01), ('subsample', 0.5)])\n"
     ]
    }
   ],
   "source": [
    "model_list_hard = training_models(hard_model_list, hard_model_params_list, n_iter=10, cv=5)"
   ]
  },
  {
   "cell_type": "markdown",
   "metadata": {},
   "source": [
    "The results are a little bit better than the previous ones, nonetheless, it can be improved.    \n",
    "RandomForest provides good results, however, it overfitts too much. Between the rest of the models, the selected model is LightGBM as it does not overtif as much as the others.    \n",
    "Even if the other are a little bit better they overfit a little bit more.     \n",
    "·      \n",
    "👉 **LGBMClassifier**"
   ]
  },
  {
   "cell_type": "code",
   "execution_count": 176,
   "metadata": {},
   "outputs": [
    {
     "data": {
      "text/html": [
       "<div>\n",
       "<style scoped>\n",
       "    .dataframe tbody tr th:only-of-type {\n",
       "        vertical-align: middle;\n",
       "    }\n",
       "\n",
       "    .dataframe tbody tr th {\n",
       "        vertical-align: top;\n",
       "    }\n",
       "\n",
       "    .dataframe thead th {\n",
       "        text-align: right;\n",
       "    }\n",
       "</style>\n",
       "<table border=\"1\" class=\"dataframe\">\n",
       "  <thead>\n",
       "    <tr style=\"text-align: right;\">\n",
       "      <th></th>\n",
       "      <th>f1_train</th>\n",
       "      <th>precision_train</th>\n",
       "      <th>recall_train</th>\n",
       "      <th>auc_train</th>\n",
       "    </tr>\n",
       "  </thead>\n",
       "  <tbody>\n",
       "    <tr>\n",
       "      <th>RandomForestClassifier</th>\n",
       "      <td>0.314486</td>\n",
       "      <td>0.204616</td>\n",
       "      <td>0.679170</td>\n",
       "      <td>0.727427</td>\n",
       "    </tr>\n",
       "    <tr>\n",
       "      <th>XGBClassifier</th>\n",
       "      <td>0.304878</td>\n",
       "      <td>0.193507</td>\n",
       "      <td>0.718276</td>\n",
       "      <td>0.731960</td>\n",
       "    </tr>\n",
       "    <tr>\n",
       "      <th>LGBMClassifier</th>\n",
       "      <td>0.259573</td>\n",
       "      <td>0.160762</td>\n",
       "      <td>0.673583</td>\n",
       "      <td>0.687405</td>\n",
       "    </tr>\n",
       "    <tr>\n",
       "      <th>CatBoostClassifier</th>\n",
       "      <td>0.263019</td>\n",
       "      <td>0.163320</td>\n",
       "      <td>0.675180</td>\n",
       "      <td>0.690645</td>\n",
       "    </tr>\n",
       "  </tbody>\n",
       "</table>\n",
       "</div>"
      ],
      "text/plain": [
       "                        f1_train  precision_train  recall_train  auc_train\n",
       "RandomForestClassifier  0.314486         0.204616      0.679170   0.727427\n",
       "XGBClassifier           0.304878         0.193507      0.718276   0.731960\n",
       "LGBMClassifier          0.259573         0.160762      0.673583   0.687405\n",
       "CatBoostClassifier      0.263019         0.163320      0.675180   0.690645"
      ]
     },
     "metadata": {},
     "output_type": "display_data"
    },
    {
     "data": {
      "text/html": [
       "<div>\n",
       "<style scoped>\n",
       "    .dataframe tbody tr th:only-of-type {\n",
       "        vertical-align: middle;\n",
       "    }\n",
       "\n",
       "    .dataframe tbody tr th {\n",
       "        vertical-align: top;\n",
       "    }\n",
       "\n",
       "    .dataframe thead th {\n",
       "        text-align: right;\n",
       "    }\n",
       "</style>\n",
       "<table border=\"1\" class=\"dataframe\">\n",
       "  <thead>\n",
       "    <tr style=\"text-align: right;\">\n",
       "      <th></th>\n",
       "      <th>f1_val</th>\n",
       "      <th>precision_val</th>\n",
       "      <th>recall_val</th>\n",
       "      <th>auc_val</th>\n",
       "    </tr>\n",
       "  </thead>\n",
       "  <tbody>\n",
       "    <tr>\n",
       "      <th>RandomForestClassifier</th>\n",
       "      <td>0.253766</td>\n",
       "      <td>0.164045</td>\n",
       "      <td>0.560102</td>\n",
       "      <td>0.658984</td>\n",
       "    </tr>\n",
       "    <tr>\n",
       "      <th>XGBClassifier</th>\n",
       "      <td>0.256547</td>\n",
       "      <td>0.162162</td>\n",
       "      <td>0.613811</td>\n",
       "      <td>0.672386</td>\n",
       "    </tr>\n",
       "    <tr>\n",
       "      <th>LGBMClassifier</th>\n",
       "      <td>0.245292</td>\n",
       "      <td>0.151190</td>\n",
       "      <td>0.649616</td>\n",
       "      <td>0.670111</td>\n",
       "    </tr>\n",
       "    <tr>\n",
       "      <th>CatBoostClassifier</th>\n",
       "      <td>0.248441</td>\n",
       "      <td>0.152893</td>\n",
       "      <td>0.662404</td>\n",
       "      <td>0.675528</td>\n",
       "    </tr>\n",
       "  </tbody>\n",
       "</table>\n",
       "</div>"
      ],
      "text/plain": [
       "                          f1_val  precision_val  recall_val   auc_val\n",
       "RandomForestClassifier  0.253766       0.164045    0.560102  0.658984\n",
       "XGBClassifier           0.256547       0.162162    0.613811  0.672386\n",
       "LGBMClassifier          0.245292       0.151190    0.649616  0.670111\n",
       "CatBoostClassifier      0.248441       0.152893    0.662404  0.675528"
      ]
     },
     "metadata": {},
     "output_type": "display_data"
    },
    {
     "data": {
      "text/html": [
       "<div>\n",
       "<style scoped>\n",
       "    .dataframe tbody tr th:only-of-type {\n",
       "        vertical-align: middle;\n",
       "    }\n",
       "\n",
       "    .dataframe tbody tr th {\n",
       "        vertical-align: top;\n",
       "    }\n",
       "\n",
       "    .dataframe thead th {\n",
       "        text-align: right;\n",
       "    }\n",
       "</style>\n",
       "<table border=\"1\" class=\"dataframe\">\n",
       "  <thead>\n",
       "    <tr style=\"text-align: right;\">\n",
       "      <th></th>\n",
       "      <th>f1_test</th>\n",
       "      <th>precision_test</th>\n",
       "      <th>recall_test</th>\n",
       "      <th>auc_test</th>\n",
       "    </tr>\n",
       "  </thead>\n",
       "  <tbody>\n",
       "    <tr>\n",
       "      <th>RandomForestClassifier</th>\n",
       "      <td>0.285714</td>\n",
       "      <td>0.192623</td>\n",
       "      <td>0.552941</td>\n",
       "      <td>0.668820</td>\n",
       "    </tr>\n",
       "    <tr>\n",
       "      <th>XGBClassifier</th>\n",
       "      <td>0.281609</td>\n",
       "      <td>0.186312</td>\n",
       "      <td>0.576471</td>\n",
       "      <td>0.671295</td>\n",
       "    </tr>\n",
       "    <tr>\n",
       "      <th>LGBMClassifier</th>\n",
       "      <td>0.277562</td>\n",
       "      <td>0.178037</td>\n",
       "      <td>0.629412</td>\n",
       "      <td>0.679733</td>\n",
       "    </tr>\n",
       "    <tr>\n",
       "      <th>CatBoostClassifier</th>\n",
       "      <td>0.269987</td>\n",
       "      <td>0.173693</td>\n",
       "      <td>0.605882</td>\n",
       "      <td>0.669061</td>\n",
       "    </tr>\n",
       "  </tbody>\n",
       "</table>\n",
       "</div>"
      ],
      "text/plain": [
       "                         f1_test  precision_test  recall_test  auc_test\n",
       "RandomForestClassifier  0.285714        0.192623     0.552941  0.668820\n",
       "XGBClassifier           0.281609        0.186312     0.576471  0.671295\n",
       "LGBMClassifier          0.277562        0.178037     0.629412  0.679733\n",
       "CatBoostClassifier      0.269987        0.173693     0.605882  0.669061"
      ]
     },
     "metadata": {},
     "output_type": "display_data"
    }
   ],
   "source": [
    "hard_metrics_train, hard_metrics_val, hard_metrics_test = results_model_iteration(model_list_hard)\n",
    "hard_metrics_train = pd.DataFrame(hard_metrics_train, columns=[\"f1_train\", \"precision_train\", \"recall_train\", \"auc_train\"], index=[\"RandomForestClassifier\", \"XGBClassifier\", \"LGBMClassifier\", \"CatBoostClassifier\"])\n",
    "hard_metrics_val = pd.DataFrame(hard_metrics_val, columns=[\"f1_val\", \"precision_val\", \"recall_val\", \"auc_val\"], index=[\"RandomForestClassifier\", \"XGBClassifier\", \"LGBMClassifier\", \"CatBoostClassifier\"])\n",
    "hard_metrics_test = pd.DataFrame(hard_metrics_test, columns=[\"f1_test\", \"precision_test\", \"recall_test\", \"auc_test\"], index=[\"RandomForestClassifier\", \"XGBClassifier\", \"LGBMClassifier\", \"CatBoostClassifier\"])\n",
    "\n",
    "display(hard_metrics_train, hard_metrics_val, hard_metrics_test)"
   ]
  },
  {
   "cell_type": "markdown",
   "metadata": {},
   "source": [
    "As it is difficult to interpret the results of the model, we will try to improve the results with the next model."
   ]
  },
  {
   "cell_type": "code",
   "execution_count": 171,
   "metadata": {},
   "outputs": [],
   "source": [
    "def metrics_result(std_by_model, model_names, metrics_results):\n",
    "    \n",
    "    fig = plt.figure(figsize=(30, 7))\n",
    "    for i, v in enumerate([\"f1_test\", \"precision_test\", \"recall_test\", \"auc_test\"]):\n",
    "\n",
    "        plt.subplot(2, 2, i+1)\n",
    "\n",
    "        metric = v.split(\"_\")[0].capitalize()\n",
    "        metrics_results_plot = metrics_results[i,:]\n",
    "        std_model = std_by_model[:,0]\n",
    "\n",
    "        plt.errorbar(model_names, metrics_results_plot, yerr=std_model, fmt='o', color='#264653', ecolor='#E76F51', elinewidth=3, capsize=8)\n",
    "        plt.scatter(model_names, metrics_results_plot, color='#264653', s=100)\n",
    "        plt.ylabel(metric, fontdict={'size': 15, 'color': 'black', 'weight': 'bold'});\n",
    "        plt.xticks(fontsize=13, color='black'), plt.yticks(fontsize=13, color='black');\n",
    "        plt.grid(linestyle='--',linewidth=1.5, axis='y', alpha=0.75);\n",
    "\n",
    "        for x, y in zip(model_names, metrics_results_plot):\n",
    "            label = \"{:.1f}\".format(y*100)\n",
    "            plt.annotate(label + \"%\", (x, y), textcoords=\"offset points\", xytext=(9, -3), fontsize=15, color='black')"
   ]
  },
  {
   "cell_type": "code",
   "execution_count": 172,
   "metadata": {},
   "outputs": [
    {
     "data": {
      "image/png": "[encoded data removed]",
      "text/plain": [
       "<Figure size 2160x504 with 4 Axes>"
      ]
     },
     "metadata": {
      "needs_background": "light"
     },
     "output_type": "display_data"
    }
   ],
   "source": [
    "model_names = ['XGBClassifier', 'LGBMClassifier', 'CatBoostClassifier']\n",
    "std_by_model = np.array([np.std([hard_metrics_train.loc[model], hard_metrics_val.loc[model], hard_metrics_test.loc[model]], axis=0) for model in model_names])\n",
    "metrics_results = np.array([[hard_metrics_test[v][x] for x in model_names] for v in [\"f1_test\", \"precision_test\", \"recall_test\", \"auc_test\"]])\n",
    "\n",
    "metrics_result(std_by_model, model_names, metrics_results)"
   ]
  },
  {
   "cell_type": "markdown",
   "metadata": {},
   "source": [
    "### <a id='4'>4. Really hard intepretability</a>\n",
    "----"
   ]
  },
  {
   "cell_type": "markdown",
   "metadata": {},
   "source": [
    "In this section a neural network is trained.    \n",
    "A neural network is constructed with weighted loss function, and dropout."
   ]
  },
  {
   "cell_type": "code",
   "execution_count": null,
   "metadata": {},
   "outputs": [],
   "source": [
    "class DenseModel(torch.nn.Module):\n",
    "\n",
    "    def __init__(self):\n",
    "        super().__init__()\n",
    "        torch.manual_seed(0)\n",
    "        self.linear1 = Linear(48, 1024) \n",
    "        self.linear2 = Linear(1024, 512) \n",
    "        self.linear3 = Linear(512, 128) \n",
    "        self.linear4 = Linear(128, 64) \n",
    "        self.lin = Linear(64, 2)\n",
    "\n",
    "    def forward(self, x):\n",
    "        torch.manual_seed(0)\n",
    "        \n",
    "        x = F.dropout(F.relu(self.linear1(x)), p=0.1, training=self.training)\n",
    "        x = F.dropout(F.relu(self.linear2(x)), p=0.1, training=self.training)\n",
    "        x = F.dropout(F.relu(self.linear3(x)), p=0.1, training=self.training)\n",
    "        x = F.dropout(F.relu(self.linear4(x)), p=0.1, training=self.training)\n",
    "        x = self.lin(x)\n",
    "        x = F.sigmoid(x)\n",
    "        return x\n",
    "\n",
    "input_train = torch.tensor(df_train_graph_numeric_scaled, dtype=torch.float)\n",
    "input_val = torch.tensor(df_val_graph_numeric_scaled, dtype=torch.float)\n",
    "input_test = torch.tensor(df_test_graph_numeric_scaled, dtype=torch.float)\n",
    "\n",
    "target_train = torch.tensor(df_train_graph[\"TARGET\"].values, dtype=torch.long)\n",
    "target_val = torch.tensor(df_val_graph[\"TARGET\"].values, dtype=torch.long)\n",
    "target_test = torch.tensor(df_test[\"TARGET\"][:2000].values, dtype=torch.long)"
   ]
  },
  {
   "cell_type": "markdown",
   "metadata": {},
   "source": [
    "The training and validation functions are defined below."
   ]
  },
  {
   "cell_type": "code",
   "execution_count": 152,
   "metadata": {},
   "outputs": [],
   "source": [
    "torch.manual_seed(0)\n",
    "def train(data):\n",
    "\n",
    "    torch.manual_seed(0)\n",
    "    model_pytorch.train()\n",
    "    optimizer.zero_grad()\n",
    "    out = model_pytorch(input_train)    \n",
    "    loss = criterion(out, target_train)\n",
    "    loss.backward()\n",
    "    optimizer.step()\n",
    "\n",
    "    pred = out.max(1)[1]\n",
    "    f1, precision, recall, auc = metrics_return(df_train_graph[\"TARGET\"], pred)\n",
    "    return float(loss), f1, precision, recall, auc\n",
    "\n",
    "def val(data, target):\n",
    "\n",
    "    torch.manual_seed(0)\n",
    "    model_pytorch.eval()\n",
    "    out = model_pytorch(data)\n",
    "    pred = out.max(1)[1]\n",
    "    f1, precision, recall, auc = metrics_return(target, pred)\n",
    "    return f1, precision, recall, auc"
   ]
  },
  {
   "cell_type": "markdown",
   "metadata": {},
   "source": [
    "The criterias are stablished"
   ]
  },
  {
   "cell_type": "code",
   "execution_count": 153,
   "metadata": {},
   "outputs": [],
   "source": [
    "model_pytorch = DenseModel()\n",
    "\n",
    "optimizer = torch.optim.Adam(model_pytorch.parameters(), lr=0.01)\n",
    "y = np.array(df_train_graph[\"TARGET\"])\n",
    "weights = [1 - (len(y[y == 0])/len(y)), 1 - (len(y[y == 1])/len(y))]\n",
    "criterion = torch.nn.CrossEntropyLoss(weight=torch.tensor(weights))"
   ]
  },
  {
   "cell_type": "markdown",
   "metadata": {},
   "source": [
    "The model is trainned"
   ]
  },
  {
   "cell_type": "code",
   "execution_count": 154,
   "metadata": {},
   "outputs": [
    {
     "name": "stdout",
     "output_type": "stream",
     "text": [
      "Epoch: 010, Loss: 0.607, | F1 Train: 0.241, F1 Val: 0.238, F1 Test: 0.266, | Precision Train: 0.143, Precision Val: 0.143, Precision Test: 0.165, | Recall Train: 0.754, Recall Val: 0.721, Recall Test: 0.688, | AUC Train: 0.686, AUC Val: 0.677, AUC Test: 0.682\n"
     ]
    }
   ],
   "source": [
    "torch.manual_seed(0)\n",
    "for epoch in range(1, 10 + 1):\n",
    "    torch.manual_seed(0)\n",
    "    loss, f1_train, precision_train, recall_train, auc_train = train(df_train_graph_numeric_scaled)\n",
    "    f1_val, precision_val, recall_val, auc_val = val(input_val, target_val)\n",
    "    f1_test, precision_test, recall_test, auc_test = val(input_test, target_test)\n",
    "    if epoch % 10 == 0:\n",
    "        print(f'Epoch: {epoch:03d}, Loss: {loss:.3f}, | F1 Train: {f1_train:.3f}, F1 Val: {f1_val:.3f}, F1 Test: {f1_test:.3f}, | Precision Train: {precision_train:.3f}, Precision Val: {precision_val:.3f}, Precision Test: {precision_test:.3f}, | Recall Train: {recall_train:.3f}, Recall Val: {recall_val:.3f}, Recall Test: {recall_test:.3f}, | AUC Train: {auc_train:.3f}, AUC Val: {auc_val:.3f}, AUC Test: {auc_test:.3f}')"
   ]
  },
  {
   "cell_type": "markdown",
   "metadata": {},
   "source": [
    "Function to get the predictions"
   ]
  },
  {
   "cell_type": "code",
   "execution_count": 148,
   "metadata": {},
   "outputs": [],
   "source": [
    "def pytorch_predictions(data):\n",
    "    to_pred = torch.tensor(data, dtype=torch.float)\n",
    "    model_pytorch.eval()\n",
    "    out = model_pytorch(to_pred)\n",
    "    pred = out.max(1)[1]\n",
    "    return pred"
   ]
  },
  {
   "cell_type": "markdown",
   "metadata": {},
   "source": [
    "Predictions"
   ]
  },
  {
   "cell_type": "code",
   "execution_count": 155,
   "metadata": {},
   "outputs": [],
   "source": [
    "y_pred_train = pytorch_predictions(df_train_graph_numeric_scaled)\n",
    "y_pred_val = pytorch_predictions(df_val_graph_numeric_scaled)\n",
    "y_pred_test = pytorch_predictions(df_test_graph_numeric_scaled)"
   ]
  },
  {
   "cell_type": "markdown",
   "metadata": {},
   "source": [
    "The results seems promising, however, we will see if we can improve them with the next model."
   ]
  },
  {
   "cell_type": "code",
   "execution_count": 156,
   "metadata": {},
   "outputs": [
    {
     "name": "stdout",
     "output_type": "stream",
     "text": [
      "Train F1: 0.2467, Precision: 0.1484, Recall: 0.7302, AUC: 0.6871\n",
      "Val F1: 0.2384, Precision: 0.1428, Recall: 0.7212, AUC: 0.6770\n",
      "Test F1: 0.2662, Precision: 0.1650, Recall: 0.6882, AUC: 0.6824\n"
     ]
    }
   ],
   "source": [
    "f1, precision, recall, auc = metrics_return(df_train_graph[\"TARGET\"], y_pred_train)\n",
    "print(\"Train F1: {:.4f}, Precision: {:.4f}, Recall: {:.4f}, AUC: {:.4f}\".format(f1, precision, recall, auc))\n",
    "f1_val, precision_val, recall_val, auc_val = metrics_return(df_val_graph[\"TARGET\"], y_pred_val)\n",
    "print(\"Val F1: {:.4f}, Precision: {:.4f}, Recall: {:.4f}, AUC: {:.4f}\".format(f1_val, precision_val, recall_val, auc_val))\n",
    "f1_test, precision_test, recall_test, auc_test = metrics_return(df_test[\"TARGET\"][:2000], y_pred_test)\n",
    "print(\"Test F1: {:.4f}, Precision: {:.4f}, Recall: {:.4f}, AUC: {:.4f}\".format(f1_test, precision_test, recall_test, auc_test))"
   ]
  },
  {
   "cell_type": "markdown",
   "metadata": {},
   "source": [
    "Pytorch metrics are added to the existing dataframe"
   ]
  },
  {
   "cell_type": "code",
   "execution_count": 187,
   "metadata": {},
   "outputs": [],
   "source": [
    "def including_pytorch_metrics(hard_metrics,list_metrics):\n",
    "\n",
    "    hard_metrics.loc[len(hard_metrics)] = list_metrics\n",
    "    hard_metrics.rename(index={4: \"PyTorch\"}, inplace=True)\n",
    "    return hard_metrics"
   ]
  },
  {
   "cell_type": "markdown",
   "metadata": {},
   "source": [
    "Metrics are added to the dataframe"
   ]
  },
  {
   "cell_type": "code",
   "execution_count": 185,
   "metadata": {},
   "outputs": [],
   "source": [
    "hard_metrics_train = including_pytorch_metrics(hard_metrics_train, [f1, precision, recall, auc])\n",
    "hard_metrics_val = including_pytorch_metrics(hard_metrics_val, [f1_val, precision_val, recall_val, auc_val])\n",
    "hard_metrics_test = including_pytorch_metrics(hard_metrics_test, [f1_test, precision_test, recall_test, auc_test])"
   ]
  },
  {
   "cell_type": "markdown",
   "metadata": {},
   "source": [
    "### <a id='5'>5. Saving relevant metrics</a>\n",
    "----"
   ]
  },
  {
   "cell_type": "code",
   "execution_count": 191,
   "metadata": {},
   "outputs": [
    {
     "data": {
      "image/png": "[encoded data removed]",
      "text/plain": [
       "<Figure size 2160x504 with 4 Axes>"
      ]
     },
     "metadata": {
      "needs_background": "light"
     },
     "output_type": "display_data"
    }
   ],
   "source": [
    "model_names = ['XGBClassifier', 'LGBMClassifier', 'CatBoostClassifier', 'PyTorch']\n",
    "std_by_model = np.array([np.std([hard_metrics_train.loc[model], hard_metrics_val.loc[model], hard_metrics_test.loc[model]], axis=0) for model in model_names])\n",
    "metrics_results = np.array([[hard_metrics_test[v][x] for x in model_names] for v in [\"f1_test\", \"precision_test\", \"recall_test\", \"auc_test\"]])\n",
    "\n",
    "metrics_result(std_by_model, model_names, metrics_results)"
   ]
  },
  {
   "cell_type": "code",
   "execution_count": null,
   "metadata": {},
   "outputs": [],
   "source": [
    "from sklearn.metrics import confusion_matrix\n",
    "def plot_confusion_matrix(cm, classes,\n",
    "                          normalize=False,\n",
    "                          title='Confusion matrix',\n",
    "                          cmap=plt.cm.Blues):\n",
    "   \n",
    "    import itertools\n",
    "    fig = plt.figure(figsize=(15,8))\n",
    "    plt.imshow(cm, interpolation='nearest', cmap=cmap)\n",
    "    plt.colorbar()\n",
    "    tick_marks = np.arange(len(classes))\n",
    "    plt.xticks(tick_marks, classes, rotation=45, fontsize = 15), plt.yticks(tick_marks, classes, fontsize = 15)\n",
    "\n",
    "    fmt = '.2f' if normalize else 'd'\n",
    "    thresh = cm.max() / 2.\n",
    "    for i, j in itertools.product(range(cm.shape[0]), range(cm.shape[1])):\n",
    "        plt.text(j, i, format(cm[i, j], fmt),\n",
    "                 horizontalalignment=\"center\", fontsize = 15,\n",
    "                 color=\"white\" if cm[i, j] > thresh else \"black\")\n",
    "\n",
    "    plt.ylabel('True label', fontsize = 18), plt.xlabel('Predicted label', fontsize = 18), plt.title(title, fontsize = 19, fontweight='bold')\n",
    "    plt.tight_layout()"
   ]
  },
  {
   "cell_type": "markdown",
   "metadata": {},
   "source": [
    "---"
   ]
  },
  {
   "cell_type": "code",
   "execution_count": 87,
   "metadata": {},
   "outputs": [],
   "source": [
    "xent = tf.keras.losses.BinaryCrossentropy(\n",
    "    from_logits=True,\n",
    "    reduction=tf.keras.losses.Reduction.NONE)"
   ]
  },
  {
   "cell_type": "code",
   "execution_count": 88,
   "metadata": {},
   "outputs": [
    {
     "name": "stdout",
     "output_type": "stream",
     "text": [
      "Epoch 1/50\n",
      "1000/1000 [==============================] - 9s 8ms/step - loss: 0.2725 - auc: 0.6767 - recall: 0.0024 - val_loss: 0.2549 - val_auc: 0.7230 - val_recall: 0.0000e+00\n",
      "Epoch 2/50\n",
      "1000/1000 [==============================] - 7s 7ms/step - loss: 0.2578 - auc: 0.7141 - recall: 0.0032 - val_loss: 0.2544 - val_auc: 0.7260 - val_recall: 0.0000e+00\n",
      "Epoch 3/50\n",
      "1000/1000 [==============================] - 7s 7ms/step - loss: 0.2508 - auc: 0.7326 - recall: 0.0088 - val_loss: 0.2605 - val_auc: 0.7144 - val_recall: 0.0000e+00\n",
      "Epoch 4/50\n",
      "1000/1000 [==============================] - 7s 7ms/step - loss: 0.2501 - auc: 0.7358 - recall: 0.0064 - val_loss: 0.2538 - val_auc: 0.7279 - val_recall: 0.0102\n",
      "Epoch 5/50\n",
      "1000/1000 [==============================] - 7s 7ms/step - loss: 0.2457 - auc: 0.7455 - recall: 0.0152 - val_loss: 0.2517 - val_auc: 0.7278 - val_recall: 0.0000e+00\n",
      "Epoch 6/50\n",
      "1000/1000 [==============================] - 8s 8ms/step - loss: 0.2439 - auc: 0.7501 - recall: 0.0168 - val_loss: 0.2527 - val_auc: 0.7355 - val_recall: 0.0153\n",
      "Epoch 7/50\n",
      "1000/1000 [==============================] - 8s 8ms/step - loss: 0.2428 - auc: 0.7555 - recall: 0.0144 - val_loss: 0.2675 - val_auc: 0.7240 - val_recall: 0.0051\n",
      "Epoch 8/50\n",
      "1000/1000 [==============================] - 7s 7ms/step - loss: 0.2412 - auc: 0.7584 - recall: 0.0423 - val_loss: 0.2564 - val_auc: 0.7331 - val_recall: 0.0153\n",
      "Epoch 9/50\n",
      "1000/1000 [==============================] - 7s 7ms/step - loss: 0.2434 - auc: 0.7622 - recall: 0.0351 - val_loss: 0.2610 - val_auc: 0.7209 - val_recall: 0.0332\n",
      "Epoch 10/50\n",
      "1000/1000 [==============================] - 7s 7ms/step - loss: 0.2362 - auc: 0.7724 - recall: 0.0615 - val_loss: 0.2597 - val_auc: 0.7231 - val_recall: 0.0077\n",
      "Epoch 11/50\n",
      "1000/1000 [==============================] - 6s 6ms/step - loss: 0.2335 - auc: 0.7828 - recall: 0.0607 - val_loss: 0.2637 - val_auc: 0.7050 - val_recall: 0.0102\n",
      "Epoch 12/50\n",
      "1000/1000 [==============================] - 6s 6ms/step - loss: 0.2313 - auc: 0.7848 - recall: 0.0766 - val_loss: 0.2607 - val_auc: 0.7096 - val_recall: 0.0205\n",
      "Epoch 13/50\n",
      "1000/1000 [==============================] - 6s 6ms/step - loss: 0.2269 - auc: 0.7969 - recall: 0.0870 - val_loss: 0.2632 - val_auc: 0.7021 - val_recall: 0.0102\n",
      "Epoch 14/50\n",
      "1000/1000 [==============================] - 6s 6ms/step - loss: 0.2247 - auc: 0.8012 - recall: 0.0958 - val_loss: 0.2635 - val_auc: 0.7000 - val_recall: 0.0256\n",
      "Epoch 15/50\n",
      "1000/1000 [==============================] - 6s 6ms/step - loss: 0.2206 - auc: 0.8113 - recall: 0.1141 - val_loss: 0.2702 - val_auc: 0.6947 - val_recall: 0.0332\n",
      "Epoch 16/50\n",
      "1000/1000 [==============================] - 6s 6ms/step - loss: 0.2170 - auc: 0.8184 - recall: 0.1213 - val_loss: 0.2887 - val_auc: 0.6905 - val_recall: 0.0563\n",
      "Epoch 17/50\n",
      "1000/1000 [==============================] - 6s 6ms/step - loss: 0.2142 - auc: 0.8253 - recall: 0.1405 - val_loss: 0.2785 - val_auc: 0.6940 - val_recall: 0.0435\n",
      "Epoch 18/50\n",
      "1000/1000 [==============================] - 6s 6ms/step - loss: 0.2086 - auc: 0.8348 - recall: 0.1708 - val_loss: 0.2818 - val_auc: 0.6798 - val_recall: 0.0358\n",
      "Epoch 19/50\n",
      "1000/1000 [==============================] - 7s 7ms/step - loss: 0.2034 - auc: 0.8453 - recall: 0.1852 - val_loss: 0.2963 - val_auc: 0.6828 - val_recall: 0.0895\n",
      "Epoch 20/50\n",
      "1000/1000 [==============================] - 7s 7ms/step - loss: 0.1993 - auc: 0.8564 - recall: 0.1963 - val_loss: 0.3190 - val_auc: 0.6677 - val_recall: 0.0767\n",
      "Epoch 21/50\n",
      "1000/1000 [==============================] - 8s 8ms/step - loss: 0.1964 - auc: 0.8609 - recall: 0.2195 - val_loss: 0.2942 - val_auc: 0.6799 - val_recall: 0.0563\n",
      "Epoch 22/50\n",
      "1000/1000 [==============================] - 8s 8ms/step - loss: 0.1883 - auc: 0.8740 - recall: 0.2410 - val_loss: 0.3258 - val_auc: 0.6753 - val_recall: 0.0486\n",
      "Epoch 23/50\n",
      "1000/1000 [==============================] - 8s 8ms/step - loss: 0.1874 - auc: 0.8767 - recall: 0.2562 - val_loss: 0.3547 - val_auc: 0.6543 - val_recall: 0.0639\n",
      "Epoch 24/50\n",
      "1000/1000 [==============================] - 7s 7ms/step - loss: 0.1821 - auc: 0.8816 - recall: 0.2817 - val_loss: 0.3479 - val_auc: 0.6523 - val_recall: 0.0895\n",
      "Epoch 25/50\n",
      "1000/1000 [==============================] - 8s 8ms/step - loss: 0.1745 - auc: 0.8925 - recall: 0.3128 - val_loss: 0.3592 - val_auc: 0.6355 - val_recall: 0.0716\n",
      "Epoch 26/50\n",
      "1000/1000 [==============================] - 6s 6ms/step - loss: 0.1712 - auc: 0.8990 - recall: 0.3200 - val_loss: 0.3579 - val_auc: 0.6290 - val_recall: 0.0716\n",
      "Epoch 27/50\n",
      "1000/1000 [==============================] - 7s 7ms/step - loss: 0.1669 - auc: 0.9067 - recall: 0.3424 - val_loss: 0.3675 - val_auc: 0.6541 - val_recall: 0.0691\n",
      "Epoch 28/50\n",
      "1000/1000 [==============================] - 7s 7ms/step - loss: 0.1609 - auc: 0.9127 - recall: 0.3623 - val_loss: 0.3678 - val_auc: 0.6414 - val_recall: 0.0844\n",
      "Epoch 29/50\n",
      "1000/1000 [==============================] - 7s 7ms/step - loss: 0.1612 - auc: 0.9140 - recall: 0.3823 - val_loss: 0.3704 - val_auc: 0.6576 - val_recall: 0.0921\n",
      "Epoch 30/50\n",
      "1000/1000 [==============================] - 6s 6ms/step - loss: 0.1520 - auc: 0.9223 - recall: 0.4070 - val_loss: 0.4344 - val_auc: 0.6261 - val_recall: 0.0870\n",
      "Epoch 31/50\n",
      "1000/1000 [==============================] - 6s 6ms/step - loss: 0.1450 - auc: 0.9285 - recall: 0.4533 - val_loss: 0.4387 - val_auc: 0.6248 - val_recall: 0.0486\n",
      "Epoch 32/50\n",
      "1000/1000 [==============================] - 7s 7ms/step - loss: 0.1461 - auc: 0.9299 - recall: 0.4366 - val_loss: 0.4176 - val_auc: 0.6143 - val_recall: 0.0691\n",
      "Epoch 33/50\n",
      "1000/1000 [==============================] - 7s 7ms/step - loss: 0.1338 - auc: 0.9428 - recall: 0.4948 - val_loss: 0.5010 - val_auc: 0.6027 - val_recall: 0.1125\n",
      "Epoch 34/50\n",
      "1000/1000 [==============================] - 7s 7ms/step - loss: 0.1395 - auc: 0.9387 - recall: 0.4717 - val_loss: 0.4338 - val_auc: 0.6538 - val_recall: 0.0921\n",
      "Epoch 35/50\n",
      "1000/1000 [==============================] - 6s 6ms/step - loss: 0.1289 - auc: 0.9454 - recall: 0.5084 - val_loss: 0.4596 - val_auc: 0.6401 - val_recall: 0.0997\n",
      "Epoch 36/50\n",
      "1000/1000 [==============================] - 6s 6ms/step - loss: 0.1269 - auc: 0.9482 - recall: 0.5251 - val_loss: 0.4363 - val_auc: 0.6472 - val_recall: 0.0767\n",
      "Epoch 37/50\n",
      "1000/1000 [==============================] - 8s 8ms/step - loss: 0.1248 - auc: 0.9480 - recall: 0.5459 - val_loss: 0.4174 - val_auc: 0.6275 - val_recall: 0.1023\n",
      "Epoch 38/50\n",
      "1000/1000 [==============================] - 7s 7ms/step - loss: 0.1169 - auc: 0.9575 - recall: 0.5611 - val_loss: 0.5337 - val_auc: 0.6149 - val_recall: 0.0946\n",
      "Epoch 39/50\n",
      "1000/1000 [==============================] - 7s 7ms/step - loss: 0.1146 - auc: 0.9598 - recall: 0.5890 - val_loss: 0.4976 - val_auc: 0.6280 - val_recall: 0.0921\n",
      "Epoch 40/50\n",
      "1000/1000 [==============================] - 7s 7ms/step - loss: 0.1092 - auc: 0.9624 - recall: 0.5930 - val_loss: 0.5325 - val_auc: 0.6373 - val_recall: 0.1049\n",
      "Epoch 41/50\n",
      "1000/1000 [==============================] - 7s 7ms/step - loss: 0.1087 - auc: 0.9615 - recall: 0.6081 - val_loss: 0.5720 - val_auc: 0.6289 - val_recall: 0.0946\n",
      "Epoch 42/50\n",
      "1000/1000 [==============================] - 7s 7ms/step - loss: 0.1019 - auc: 0.9679 - recall: 0.6329 - val_loss: 0.5858 - val_auc: 0.6292 - val_recall: 0.0972\n",
      "Epoch 43/50\n",
      "1000/1000 [==============================] - 7s 7ms/step - loss: 0.1045 - auc: 0.9657 - recall: 0.6329 - val_loss: 0.5172 - val_auc: 0.6226 - val_recall: 0.0793\n",
      "Epoch 44/50\n",
      "1000/1000 [==============================] - 7s 7ms/step - loss: 0.0977 - auc: 0.9695 - recall: 0.6648 - val_loss: 0.5886 - val_auc: 0.6373 - val_recall: 0.1202\n",
      "Epoch 45/50\n",
      "1000/1000 [==============================] - 7s 7ms/step - loss: 0.0885 - auc: 0.9749 - recall: 0.6967 - val_loss: 0.5872 - val_auc: 0.6297 - val_recall: 0.1100\n",
      "Epoch 46/50\n",
      "1000/1000 [==============================] - 7s 7ms/step - loss: 0.0905 - auc: 0.9741 - recall: 0.6887 - val_loss: 0.5987 - val_auc: 0.6358 - val_recall: 0.1125\n",
      "Epoch 47/50\n",
      "1000/1000 [==============================] - 7s 7ms/step - loss: 0.0881 - auc: 0.9766 - recall: 0.7055 - val_loss: 0.6545 - val_auc: 0.5991 - val_recall: 0.0818\n",
      "Epoch 48/50\n",
      "1000/1000 [==============================] - 7s 7ms/step - loss: 0.0883 - auc: 0.9768 - recall: 0.6911 - val_loss: 0.6678 - val_auc: 0.6357 - val_recall: 0.1202\n",
      "Epoch 49/50\n",
      "1000/1000 [==============================] - 7s 7ms/step - loss: 0.0822 - auc: 0.9789 - recall: 0.7294 - val_loss: 0.6827 - val_auc: 0.6066 - val_recall: 0.1228\n",
      "Epoch 50/50\n",
      "1000/1000 [==============================] - 8s 8ms/step - loss: 0.0853 - auc: 0.9785 - recall: 0.7159 - val_loss: 0.5913 - val_auc: 0.5970 - val_recall: 0.1023\n"
     ]
    },
    {
     "data": {
      "text/plain": [
       "<keras.callbacks.History at 0x18fed9f3d90>"
      ]
     },
     "execution_count": 88,
     "metadata": {},
     "output_type": "execute_result"
    }
   ],
   "source": [
    "tf.random.set_seed(42)\n",
    "np.random.seed(42)\n",
    "\n",
    "from tensorflow.keras import regularizers\n",
    "model = Sequential()\n",
    "model.add(Dense(1024, activation=tf.keras.layers.LeakyReLU(alpha=0.1)))\n",
    "model.add(Dropout(0.2))\n",
    "model.add(Dense(512, activation=tf.keras.layers.LeakyReLU(alpha=0.1)))\n",
    "model.add(Dense(64, activation=tf.keras.layers.LeakyReLU(alpha=0.1)))\n",
    "model.add(Dropout(0.2))\n",
    "model.add(Dense(1, activation=\"sigmoid\"))\n",
    "\n",
    "optimizer = Adam(learning_rate=0.001)\n",
    "model.compile(optimizer=optimizer, loss=xent, metrics=[\"AUC\",'Recall'])\n",
    "model.fit(df_train_graph_numeric_scaled, df_train_graph[\"TARGET\"], epochs=50, batch_size=16, validation_data=(df_val_graph_numeric_scaled, df_val_graph[\"TARGET\"]))"
   ]
  },
  {
   "cell_type": "code",
   "execution_count": 89,
   "metadata": {},
   "outputs": [
    {
     "name": "stdout",
     "output_type": "stream",
     "text": [
      "500/500 [==============================] - 1s 3ms/step\n",
      "157/157 [==============================] - 0s 2ms/step\n",
      "63/63 [==============================] - 0s 2ms/step\n"
     ]
    }
   ],
   "source": [
    "y_pred_train = model.predict(df_train_graph_numeric_scaled)\n",
    "y_pred_val = model.predict(df_val_graph_numeric_scaled)\n",
    "y_pred_test = model.predict(df_test_graph_numeric_scaled)"
   ]
  },
  {
   "cell_type": "code",
   "execution_count": 94,
   "metadata": {},
   "outputs": [
    {
     "name": "stdout",
     "output_type": "stream",
     "text": [
      "Train F1: 0.8828, Precision: 0.9357, Recall: 0.8356, AUC: 0.9154\n",
      "Val F1: 0.1284, Precision: 0.1724, Recall: 0.1023, AUC: 0.5303\n",
      "Test F1: 0.0976, Precision: 0.1579, Recall: 0.0706, AUC: 0.5178\n"
     ]
    }
   ],
   "source": [
    "f1, precision, recall, auc = metrics_return(df_train_graph[\"TARGET\"], y_pred_train.round())\n",
    "print(\"Train F1: {:.4f}, Precision: {:.4f}, Recall: {:.4f}, AUC: {:.4f}\".format(f1, precision, recall, auc))\n",
    "f1_val, precision_val, recall_val, auc_val = metrics_return(df_val_graph[\"TARGET\"], y_pred_val.round())\n",
    "print(\"Val F1: {:.4f}, Precision: {:.4f}, Recall: {:.4f}, AUC: {:.4f}\".format(f1_val, precision_val, recall_val, auc_val))\n",
    "f1_test, precision_test, recall_test, auc_test = metrics_return(df_test[\"TARGET\"][:2000], y_pred_test.round())\n",
    "print(\"Test F1: {:.4f}, Precision: {:.4f}, Recall: {:.4f}, AUC: {:.4f}\".format(f1_test, precision_test, recall_test, auc_test))"
   ]
  },
  {
   "cell_type": "code",
   "execution_count": 90,
   "metadata": {},
   "outputs": [
    {
     "data": {
      "image/png": "[encoded data removed]",
      "text/plain": [
       "<Figure size 1080x576 with 2 Axes>"
      ]
     },
     "metadata": {
      "needs_background": "light"
     },
     "output_type": "display_data"
    }
   ],
   "source": [
    "nf_matrix = confusion_matrix(df_train_graph[\"TARGET\"], y_pred_train.round())\n",
    "plot_confusion_matrix(nf_matrix, classes = ['0', '1'],\n",
    "                      title='Results')"
   ]
  }
 ],
 "metadata": {
  "kernelspec": {
   "display_name": "Python 3.8.5 ('reto10_rojo')",
   "language": "python",
   "name": "python3"
  },
  "language_info": {
   "codemirror_mode": {
    "name": "ipython",
    "version": 3
   },
   "file_extension": ".py",
   "mimetype": "text/x-python",
   "name": "python",
   "nbconvert_exporter": "python",
   "pygments_lexer": "ipython3",
   "version": "3.8.5"
  },
  "orig_nbformat": 4,
  "vscode": {
   "interpreter": {
    "hash": "08b3381ba778dce64d58ec8c6c249a117ea9c9228d0f8d8cd77d3c6ba08bc462"
   }
  }
 },
 "nbformat": 4,
 "nbformat_minor": 2
}
