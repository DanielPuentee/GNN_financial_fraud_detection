{
 "cells": [
  {
   "cell_type": "markdown",
   "metadata": {},
   "source": [
    "*Author: Daniel Puente*   \n",
    "\n",
    "<img src=\"https://cdn-icons-png.flaticon.com/512/2977/2977956.png\" width=\"100\" height=\"100\" float =\"right\">   \n",
    "\n",
    "In this notebook the dataset will be cleaned to remove all columns with null values and rows that contribute noise.    \n",
    "The aim is to prepare the dataset for a deeper analysis in the next notebook `02_eda`. \n",
    "For this purpose, the following index will be used: "
   ]
  },
  {
   "cell_type": "markdown",
   "metadata": {},
   "source": [
    "- <a href='#1'><ins>1. Loading of Libraries and Data<ins></a>\n",
    "- <a href='#2'><ins>2. Null analysis<ins></a>\n",
    "- <a href='#3'><ins>3. Save data<ins> </a>"
   ]
  },
  {
   "cell_type": "markdown",
   "metadata": {},
   "source": [
    "### <a id='1'>1. Loading of Libraries and Data</a>\n",
    "----"
   ]
  },
  {
   "cell_type": "code",
   "execution_count": 1,
   "metadata": {},
   "outputs": [],
   "source": [
    "import pandas as pd\n",
    "import numpy as np\n",
    "\n",
    "path = \"../data/\"\n",
    "output_path = \"../data/cleaning_generated_data/\"\n",
    "\n",
    "df = pd.read_csv(path + \"application_data.csv\")\n",
    "info_df = pd.read_csv(path + \"columns_description.csv\", encoding='cp1252', index_col=0)\n",
    "previous_df = pd.read_csv(path + \"previous_application.csv\")"
   ]
  },
  {
   "cell_type": "markdown",
   "metadata": {},
   "source": [
    "### <a id='2'>2. Null analysis</a>\n",
    "---"
   ]
  },
  {
   "cell_type": "markdown",
   "metadata": {},
   "source": [
    "There are plenty of columns in the dataset and most of them have null values. The columns with null values will be removed."
   ]
  },
  {
   "cell_type": "code",
   "execution_count": 5,
   "metadata": {},
   "outputs": [
    {
     "name": "stdout",
     "output_type": "stream",
     "text": [
      "Number of columns with more than 0% null values: 67\n",
      "Number of columns with more than 10% null values: 57\n"
     ]
    }
   ],
   "source": [
    "null_values = np.array(sorted(list(df.isna().sum()/len(df)))[::-1])\n",
    "print(\"Number of columns with more than 0% null values:\", len(null_values[null_values > 0]))\n",
    "print(\"Number of columns with more than 10% null values:\", len(null_values[null_values > 0.1]))"
   ]
  },
  {
   "cell_type": "markdown",
   "metadata": {},
   "source": [
    "Columns with more than 20% of null values are removed and then perform a drop of the rows with null values.   \n",
    "Since there is a lot of data it is not a bad option to skip data in this way.  "
   ]
  },
  {
   "cell_type": "code",
   "execution_count": 6,
   "metadata": {},
   "outputs": [
    {
     "name": "stdout",
     "output_type": "stream",
     "text": [
      "EXT_SOURCE_3                   60965\n",
      "AMT_REQ_CREDIT_BUREAU_YEAR     41519\n",
      "AMT_REQ_CREDIT_BUREAU_QRT      41519\n",
      "AMT_REQ_CREDIT_BUREAU_MON      41519\n",
      "AMT_REQ_CREDIT_BUREAU_WEEK     41519\n",
      "                               ...  \n",
      "REG_REGION_NOT_LIVE_REGION         0\n",
      "REG_REGION_NOT_WORK_REGION         0\n",
      "LIVE_REGION_NOT_WORK_REGION        0\n",
      "REG_CITY_NOT_LIVE_CITY             0\n",
      "REG_CITY_NOT_WORK_CITY             0\n",
      "Length: 72, dtype: int64\n"
     ]
    }
   ],
   "source": [
    "null_column_values = df.isna().sum()/len(df)\n",
    "null_column = null_column_values[null_column_values > 0.2].index\n",
    "\n",
    "df_new = df.drop(null_column, axis=1)\n",
    "print(df_new.isna().sum().sort_values(ascending=False))\n",
    "\n",
    "df_new.dropna(inplace=True)"
   ]
  },
  {
   "cell_type": "markdown",
   "metadata": {},
   "source": [
    "A look is taken at the categorical data we can use to generate the graph."
   ]
  },
  {
   "cell_type": "code",
   "execution_count": 7,
   "metadata": {},
   "outputs": [
    {
     "data": {
      "text/html": [
       "<div>\n",
       "<style scoped>\n",
       "    .dataframe tbody tr th:only-of-type {\n",
       "        vertical-align: middle;\n",
       "    }\n",
       "\n",
       "    .dataframe tbody tr th {\n",
       "        vertical-align: top;\n",
       "    }\n",
       "\n",
       "    .dataframe thead th {\n",
       "        text-align: right;\n",
       "    }\n",
       "</style>\n",
       "<table border=\"1\" class=\"dataframe\">\n",
       "  <thead>\n",
       "    <tr style=\"text-align: right;\">\n",
       "      <th></th>\n",
       "      <th>NAME_CONTRACT_TYPE</th>\n",
       "      <th>CODE_GENDER</th>\n",
       "      <th>FLAG_OWN_CAR</th>\n",
       "      <th>FLAG_OWN_REALTY</th>\n",
       "      <th>NAME_TYPE_SUITE</th>\n",
       "      <th>NAME_INCOME_TYPE</th>\n",
       "      <th>NAME_EDUCATION_TYPE</th>\n",
       "      <th>NAME_FAMILY_STATUS</th>\n",
       "      <th>NAME_HOUSING_TYPE</th>\n",
       "      <th>WEEKDAY_APPR_PROCESS_START</th>\n",
       "      <th>ORGANIZATION_TYPE</th>\n",
       "    </tr>\n",
       "  </thead>\n",
       "  <tbody>\n",
       "    <tr>\n",
       "      <th>0</th>\n",
       "      <td>Cash loans</td>\n",
       "      <td>M</td>\n",
       "      <td>N</td>\n",
       "      <td>Y</td>\n",
       "      <td>Unaccompanied</td>\n",
       "      <td>Working</td>\n",
       "      <td>Secondary / secondary special</td>\n",
       "      <td>Single / not married</td>\n",
       "      <td>House / apartment</td>\n",
       "      <td>WEDNESDAY</td>\n",
       "      <td>Business Entity Type 3</td>\n",
       "    </tr>\n",
       "    <tr>\n",
       "      <th>2</th>\n",
       "      <td>Revolving loans</td>\n",
       "      <td>M</td>\n",
       "      <td>Y</td>\n",
       "      <td>Y</td>\n",
       "      <td>Unaccompanied</td>\n",
       "      <td>Working</td>\n",
       "      <td>Secondary / secondary special</td>\n",
       "      <td>Single / not married</td>\n",
       "      <td>House / apartment</td>\n",
       "      <td>MONDAY</td>\n",
       "      <td>Government</td>\n",
       "    </tr>\n",
       "    <tr>\n",
       "      <th>5</th>\n",
       "      <td>Cash loans</td>\n",
       "      <td>M</td>\n",
       "      <td>N</td>\n",
       "      <td>Y</td>\n",
       "      <td>Spouse, partner</td>\n",
       "      <td>State servant</td>\n",
       "      <td>Secondary / secondary special</td>\n",
       "      <td>Married</td>\n",
       "      <td>House / apartment</td>\n",
       "      <td>WEDNESDAY</td>\n",
       "      <td>Other</td>\n",
       "    </tr>\n",
       "    <tr>\n",
       "      <th>6</th>\n",
       "      <td>Cash loans</td>\n",
       "      <td>F</td>\n",
       "      <td>Y</td>\n",
       "      <td>Y</td>\n",
       "      <td>Unaccompanied</td>\n",
       "      <td>Commercial associate</td>\n",
       "      <td>Higher education</td>\n",
       "      <td>Married</td>\n",
       "      <td>House / apartment</td>\n",
       "      <td>SUNDAY</td>\n",
       "      <td>Business Entity Type 3</td>\n",
       "    </tr>\n",
       "    <tr>\n",
       "      <th>7</th>\n",
       "      <td>Cash loans</td>\n",
       "      <td>M</td>\n",
       "      <td>Y</td>\n",
       "      <td>Y</td>\n",
       "      <td>Unaccompanied</td>\n",
       "      <td>State servant</td>\n",
       "      <td>Higher education</td>\n",
       "      <td>Married</td>\n",
       "      <td>House / apartment</td>\n",
       "      <td>MONDAY</td>\n",
       "      <td>Other</td>\n",
       "    </tr>\n",
       "  </tbody>\n",
       "</table>\n",
       "</div>"
      ],
      "text/plain": [
       "  NAME_CONTRACT_TYPE CODE_GENDER FLAG_OWN_CAR FLAG_OWN_REALTY  \\\n",
       "0         Cash loans           M            N               Y   \n",
       "2    Revolving loans           M            Y               Y   \n",
       "5         Cash loans           M            N               Y   \n",
       "6         Cash loans           F            Y               Y   \n",
       "7         Cash loans           M            Y               Y   \n",
       "\n",
       "   NAME_TYPE_SUITE      NAME_INCOME_TYPE            NAME_EDUCATION_TYPE  \\\n",
       "0    Unaccompanied               Working  Secondary / secondary special   \n",
       "2    Unaccompanied               Working  Secondary / secondary special   \n",
       "5  Spouse, partner         State servant  Secondary / secondary special   \n",
       "6    Unaccompanied  Commercial associate               Higher education   \n",
       "7    Unaccompanied         State servant               Higher education   \n",
       "\n",
       "     NAME_FAMILY_STATUS  NAME_HOUSING_TYPE WEEKDAY_APPR_PROCESS_START  \\\n",
       "0  Single / not married  House / apartment                  WEDNESDAY   \n",
       "2  Single / not married  House / apartment                     MONDAY   \n",
       "5               Married  House / apartment                  WEDNESDAY   \n",
       "6               Married  House / apartment                     SUNDAY   \n",
       "7               Married  House / apartment                     MONDAY   \n",
       "\n",
       "        ORGANIZATION_TYPE  \n",
       "0  Business Entity Type 3  \n",
       "2              Government  \n",
       "5                   Other  \n",
       "6  Business Entity Type 3  \n",
       "7                   Other  "
      ]
     },
     "execution_count": 7,
     "metadata": {},
     "output_type": "execute_result"
    }
   ],
   "source": [
    "non_numeric_columns = df_new.select_dtypes(exclude = np.number).columns\n",
    "df_new[non_numeric_columns].head()"
   ]
  },
  {
   "cell_type": "markdown",
   "metadata": {},
   "source": [
    "Checking the distribution of the target variable. The dataset is unbalanced."
   ]
  },
  {
   "cell_type": "code",
   "execution_count": 8,
   "metadata": {},
   "outputs": [
    {
     "name": "stdout",
     "output_type": "stream",
     "text": [
      "0    0.922089\n",
      "1    0.077911\n",
      "Name: TARGET, dtype: float64\n",
      "DF unique values:  244280\n",
      "Previous DF unique values:  338857\n"
     ]
    }
   ],
   "source": [
    "print(df_new.TARGET.value_counts()/len(df_new))\n",
    "print(\"DF unique values: \", df_new.SK_ID_CURR.nunique())\n",
    "print(\"Previous DF unique values: \", previous_df.SK_ID_CURR.nunique())"
   ]
  },
  {
   "cell_type": "markdown",
   "metadata": {},
   "source": [
    "From the data of the previous application, are selected those that match the data of the current application "
   ]
  },
  {
   "cell_type": "code",
   "execution_count": 9,
   "metadata": {},
   "outputs": [],
   "source": [
    "df_new_previous = previous_df[previous_df.SK_ID_CURR.isin(df_new.SK_ID_CURR)]"
   ]
  },
  {
   "cell_type": "markdown",
   "metadata": {},
   "source": [
    "The same procedure as with the previous dataset is followed. This way there are no null values. "
   ]
  },
  {
   "cell_type": "code",
   "execution_count": 10,
   "metadata": {},
   "outputs": [],
   "source": [
    "null_values_join = (df_new_previous.isna().sum()/len(df_new_previous)).sort_values(ascending=False)\n",
    "threshold = 0.2\n",
    "\n",
    "null_column_values_join = null_values_join[null_values_join > threshold].index\n",
    "\n",
    "df_new_previous = df_new_previous.drop(null_column_values_join, axis=1)\n",
    "df_new_previous.dropna(inplace=True)\n",
    "df_new_previous.sort_values(by=['SK_ID_CURR', 'DAYS_DECISION'], inplace=True)"
   ]
  },
  {
   "cell_type": "markdown",
   "metadata": {},
   "source": [
    "The example of user `100008` is given"
   ]
  },
  {
   "cell_type": "code",
   "execution_count": 11,
   "metadata": {},
   "outputs": [
    {
     "data": {
      "text/html": [
       "<div>\n",
       "<style scoped>\n",
       "    .dataframe tbody tr th:only-of-type {\n",
       "        vertical-align: middle;\n",
       "    }\n",
       "\n",
       "    .dataframe tbody tr th {\n",
       "        vertical-align: top;\n",
       "    }\n",
       "\n",
       "    .dataframe thead th {\n",
       "        text-align: right;\n",
       "    }\n",
       "</style>\n",
       "<table border=\"1\" class=\"dataframe\">\n",
       "  <thead>\n",
       "    <tr style=\"text-align: right;\">\n",
       "      <th></th>\n",
       "      <th>SK_ID_CURR</th>\n",
       "      <th>TARGET</th>\n",
       "      <th>NAME_CONTRACT_TYPE</th>\n",
       "      <th>CODE_GENDER</th>\n",
       "      <th>FLAG_OWN_CAR</th>\n",
       "      <th>FLAG_OWN_REALTY</th>\n",
       "      <th>CNT_CHILDREN</th>\n",
       "      <th>AMT_INCOME_TOTAL</th>\n",
       "      <th>AMT_CREDIT</th>\n",
       "      <th>AMT_ANNUITY</th>\n",
       "      <th>...</th>\n",
       "      <th>FLAG_DOCUMENT_18</th>\n",
       "      <th>FLAG_DOCUMENT_19</th>\n",
       "      <th>FLAG_DOCUMENT_20</th>\n",
       "      <th>FLAG_DOCUMENT_21</th>\n",
       "      <th>AMT_REQ_CREDIT_BUREAU_HOUR</th>\n",
       "      <th>AMT_REQ_CREDIT_BUREAU_DAY</th>\n",
       "      <th>AMT_REQ_CREDIT_BUREAU_WEEK</th>\n",
       "      <th>AMT_REQ_CREDIT_BUREAU_MON</th>\n",
       "      <th>AMT_REQ_CREDIT_BUREAU_QRT</th>\n",
       "      <th>AMT_REQ_CREDIT_BUREAU_YEAR</th>\n",
       "    </tr>\n",
       "  </thead>\n",
       "  <tbody>\n",
       "    <tr>\n",
       "      <th>5</th>\n",
       "      <td>100008</td>\n",
       "      <td>0</td>\n",
       "      <td>Cash loans</td>\n",
       "      <td>M</td>\n",
       "      <td>N</td>\n",
       "      <td>Y</td>\n",
       "      <td>0</td>\n",
       "      <td>99000.0</td>\n",
       "      <td>490495.5</td>\n",
       "      <td>27517.5</td>\n",
       "      <td>...</td>\n",
       "      <td>0</td>\n",
       "      <td>0</td>\n",
       "      <td>0</td>\n",
       "      <td>0</td>\n",
       "      <td>0.0</td>\n",
       "      <td>0.0</td>\n",
       "      <td>0.0</td>\n",
       "      <td>0.0</td>\n",
       "      <td>1.0</td>\n",
       "      <td>1.0</td>\n",
       "    </tr>\n",
       "  </tbody>\n",
       "</table>\n",
       "<p>1 rows × 72 columns</p>\n",
       "</div>"
      ],
      "text/plain": [
       "   SK_ID_CURR  TARGET NAME_CONTRACT_TYPE CODE_GENDER FLAG_OWN_CAR  \\\n",
       "5      100008       0         Cash loans           M            N   \n",
       "\n",
       "  FLAG_OWN_REALTY  CNT_CHILDREN  AMT_INCOME_TOTAL  AMT_CREDIT  AMT_ANNUITY  \\\n",
       "5               Y             0           99000.0    490495.5      27517.5   \n",
       "\n",
       "   ...  FLAG_DOCUMENT_18 FLAG_DOCUMENT_19 FLAG_DOCUMENT_20 FLAG_DOCUMENT_21  \\\n",
       "5  ...                 0                0                0                0   \n",
       "\n",
       "  AMT_REQ_CREDIT_BUREAU_HOUR AMT_REQ_CREDIT_BUREAU_DAY  \\\n",
       "5                        0.0                       0.0   \n",
       "\n",
       "   AMT_REQ_CREDIT_BUREAU_WEEK  AMT_REQ_CREDIT_BUREAU_MON  \\\n",
       "5                         0.0                        0.0   \n",
       "\n",
       "   AMT_REQ_CREDIT_BUREAU_QRT  AMT_REQ_CREDIT_BUREAU_YEAR  \n",
       "5                        1.0                         1.0  \n",
       "\n",
       "[1 rows x 72 columns]"
      ]
     },
     "metadata": {},
     "output_type": "display_data"
    },
    {
     "data": {
      "text/html": [
       "<div>\n",
       "<style scoped>\n",
       "    .dataframe tbody tr th:only-of-type {\n",
       "        vertical-align: middle;\n",
       "    }\n",
       "\n",
       "    .dataframe tbody tr th {\n",
       "        vertical-align: top;\n",
       "    }\n",
       "\n",
       "    .dataframe thead th {\n",
       "        text-align: right;\n",
       "    }\n",
       "</style>\n",
       "<table border=\"1\" class=\"dataframe\">\n",
       "  <thead>\n",
       "    <tr style=\"text-align: right;\">\n",
       "      <th></th>\n",
       "      <th>SK_ID_PREV</th>\n",
       "      <th>SK_ID_CURR</th>\n",
       "      <th>NAME_CONTRACT_TYPE</th>\n",
       "      <th>AMT_APPLICATION</th>\n",
       "      <th>AMT_CREDIT</th>\n",
       "      <th>WEEKDAY_APPR_PROCESS_START</th>\n",
       "      <th>HOUR_APPR_PROCESS_START</th>\n",
       "      <th>FLAG_LAST_APPL_PER_CONTRACT</th>\n",
       "      <th>NFLAG_LAST_APPL_IN_DAY</th>\n",
       "      <th>NAME_CASH_LOAN_PURPOSE</th>\n",
       "      <th>...</th>\n",
       "      <th>CODE_REJECT_REASON</th>\n",
       "      <th>NAME_CLIENT_TYPE</th>\n",
       "      <th>NAME_GOODS_CATEGORY</th>\n",
       "      <th>NAME_PORTFOLIO</th>\n",
       "      <th>NAME_PRODUCT_TYPE</th>\n",
       "      <th>CHANNEL_TYPE</th>\n",
       "      <th>SELLERPLACE_AREA</th>\n",
       "      <th>NAME_SELLER_INDUSTRY</th>\n",
       "      <th>NAME_YIELD_GROUP</th>\n",
       "      <th>PRODUCT_COMBINATION</th>\n",
       "    </tr>\n",
       "  </thead>\n",
       "  <tbody>\n",
       "    <tr>\n",
       "      <th>604799</th>\n",
       "      <td>1186888</td>\n",
       "      <td>100008</td>\n",
       "      <td>Consumer loans</td>\n",
       "      <td>44455.5</td>\n",
       "      <td>39955.5</td>\n",
       "      <td>MONDAY</td>\n",
       "      <td>13</td>\n",
       "      <td>Y</td>\n",
       "      <td>1</td>\n",
       "      <td>XAP</td>\n",
       "      <td>...</td>\n",
       "      <td>XAP</td>\n",
       "      <td>New</td>\n",
       "      <td>Mobile</td>\n",
       "      <td>POS</td>\n",
       "      <td>XNA</td>\n",
       "      <td>Country-wide</td>\n",
       "      <td>50</td>\n",
       "      <td>Connectivity</td>\n",
       "      <td>low_normal</td>\n",
       "      <td>POS mobile with interest</td>\n",
       "    </tr>\n",
       "    <tr>\n",
       "      <th>906992</th>\n",
       "      <td>1907290</td>\n",
       "      <td>100008</td>\n",
       "      <td>Consumer loans</td>\n",
       "      <td>121455.0</td>\n",
       "      <td>109309.5</td>\n",
       "      <td>MONDAY</td>\n",
       "      <td>9</td>\n",
       "      <td>Y</td>\n",
       "      <td>1</td>\n",
       "      <td>XAP</td>\n",
       "      <td>...</td>\n",
       "      <td>XAP</td>\n",
       "      <td>Repeater</td>\n",
       "      <td>Gardening</td>\n",
       "      <td>POS</td>\n",
       "      <td>XNA</td>\n",
       "      <td>Regional / Local</td>\n",
       "      <td>96</td>\n",
       "      <td>Consumer electronics</td>\n",
       "      <td>low_normal</td>\n",
       "      <td>POS household with interest</td>\n",
       "    </tr>\n",
       "    <tr>\n",
       "      <th>800095</th>\n",
       "      <td>2613879</td>\n",
       "      <td>100008</td>\n",
       "      <td>Cash loans</td>\n",
       "      <td>450000.0</td>\n",
       "      <td>501975.0</td>\n",
       "      <td>MONDAY</td>\n",
       "      <td>10</td>\n",
       "      <td>Y</td>\n",
       "      <td>1</td>\n",
       "      <td>XNA</td>\n",
       "      <td>...</td>\n",
       "      <td>XAP</td>\n",
       "      <td>Refreshed</td>\n",
       "      <td>XNA</td>\n",
       "      <td>Cash</td>\n",
       "      <td>x-sell</td>\n",
       "      <td>Country-wide</td>\n",
       "      <td>110</td>\n",
       "      <td>Consumer electronics</td>\n",
       "      <td>middle</td>\n",
       "      <td>Cash X-Sell: middle</td>\n",
       "    </tr>\n",
       "    <tr>\n",
       "      <th>320227</th>\n",
       "      <td>2218188</td>\n",
       "      <td>100008</td>\n",
       "      <td>Consumer loans</td>\n",
       "      <td>162598.5</td>\n",
       "      <td>162598.5</td>\n",
       "      <td>THURSDAY</td>\n",
       "      <td>10</td>\n",
       "      <td>Y</td>\n",
       "      <td>1</td>\n",
       "      <td>XAP</td>\n",
       "      <td>...</td>\n",
       "      <td>XAP</td>\n",
       "      <td>Repeater</td>\n",
       "      <td>Consumer Electronics</td>\n",
       "      <td>POS</td>\n",
       "      <td>XNA</td>\n",
       "      <td>Country-wide</td>\n",
       "      <td>110</td>\n",
       "      <td>Consumer electronics</td>\n",
       "      <td>low_normal</td>\n",
       "      <td>POS household with interest</td>\n",
       "    </tr>\n",
       "    <tr>\n",
       "      <th>600145</th>\n",
       "      <td>1757431</td>\n",
       "      <td>100008</td>\n",
       "      <td>Cash loans</td>\n",
       "      <td>0.0</td>\n",
       "      <td>0.0</td>\n",
       "      <td>FRIDAY</td>\n",
       "      <td>18</td>\n",
       "      <td>Y</td>\n",
       "      <td>1</td>\n",
       "      <td>XNA</td>\n",
       "      <td>...</td>\n",
       "      <td>XAP</td>\n",
       "      <td>Repeater</td>\n",
       "      <td>XNA</td>\n",
       "      <td>XNA</td>\n",
       "      <td>XNA</td>\n",
       "      <td>Credit and cash offices</td>\n",
       "      <td>-1</td>\n",
       "      <td>XNA</td>\n",
       "      <td>XNA</td>\n",
       "      <td>Cash</td>\n",
       "    </tr>\n",
       "  </tbody>\n",
       "</table>\n",
       "<p>5 rows × 23 columns</p>\n",
       "</div>"
      ],
      "text/plain": [
       "        SK_ID_PREV  SK_ID_CURR NAME_CONTRACT_TYPE  AMT_APPLICATION  \\\n",
       "604799     1186888      100008     Consumer loans          44455.5   \n",
       "906992     1907290      100008     Consumer loans         121455.0   \n",
       "800095     2613879      100008         Cash loans         450000.0   \n",
       "320227     2218188      100008     Consumer loans         162598.5   \n",
       "600145     1757431      100008         Cash loans              0.0   \n",
       "\n",
       "        AMT_CREDIT WEEKDAY_APPR_PROCESS_START  HOUR_APPR_PROCESS_START  \\\n",
       "604799     39955.5                     MONDAY                       13   \n",
       "906992    109309.5                     MONDAY                        9   \n",
       "800095    501975.0                     MONDAY                       10   \n",
       "320227    162598.5                   THURSDAY                       10   \n",
       "600145         0.0                     FRIDAY                       18   \n",
       "\n",
       "       FLAG_LAST_APPL_PER_CONTRACT  NFLAG_LAST_APPL_IN_DAY  \\\n",
       "604799                           Y                       1   \n",
       "906992                           Y                       1   \n",
       "800095                           Y                       1   \n",
       "320227                           Y                       1   \n",
       "600145                           Y                       1   \n",
       "\n",
       "       NAME_CASH_LOAN_PURPOSE  ... CODE_REJECT_REASON  NAME_CLIENT_TYPE  \\\n",
       "604799                    XAP  ...                XAP               New   \n",
       "906992                    XAP  ...                XAP          Repeater   \n",
       "800095                    XNA  ...                XAP         Refreshed   \n",
       "320227                    XAP  ...                XAP          Repeater   \n",
       "600145                    XNA  ...                XAP          Repeater   \n",
       "\n",
       "         NAME_GOODS_CATEGORY NAME_PORTFOLIO NAME_PRODUCT_TYPE  \\\n",
       "604799                Mobile            POS               XNA   \n",
       "906992             Gardening            POS               XNA   \n",
       "800095                   XNA           Cash            x-sell   \n",
       "320227  Consumer Electronics            POS               XNA   \n",
       "600145                   XNA            XNA               XNA   \n",
       "\n",
       "                   CHANNEL_TYPE SELLERPLACE_AREA  NAME_SELLER_INDUSTRY  \\\n",
       "604799             Country-wide               50          Connectivity   \n",
       "906992         Regional / Local               96  Consumer electronics   \n",
       "800095             Country-wide              110  Consumer electronics   \n",
       "320227             Country-wide              110  Consumer electronics   \n",
       "600145  Credit and cash offices               -1                   XNA   \n",
       "\n",
       "       NAME_YIELD_GROUP          PRODUCT_COMBINATION  \n",
       "604799       low_normal     POS mobile with interest  \n",
       "906992       low_normal  POS household with interest  \n",
       "800095           middle          Cash X-Sell: middle  \n",
       "320227       low_normal  POS household with interest  \n",
       "600145              XNA                         Cash  \n",
       "\n",
       "[5 rows x 23 columns]"
      ]
     },
     "metadata": {},
     "output_type": "display_data"
    }
   ],
   "source": [
    "display(df_new[df_new['SK_ID_CURR']==100008])\n",
    "display(df_new_previous[df_new_previous['SK_ID_CURR']==100008])"
   ]
  },
  {
   "cell_type": "markdown",
   "metadata": {},
   "source": [
    "Not all the columns of the `previous_df` are in the `current_df`."
   ]
  },
  {
   "cell_type": "code",
   "execution_count": 25,
   "metadata": {},
   "outputs": [
    {
     "name": "stdout",
     "output_type": "stream",
     "text": [
      "Columns that match: 18\n",
      "Number of total columns: 23\n"
     ]
    }
   ],
   "source": [
    "columns_array = np.array(df_new_previous.columns) \n",
    "joined_columns = columns_array[~np.isin(columns_array, df_new.columns)]\n",
    "\n",
    "print('Columns that match:', len(joined_columns))\n",
    "print('Number of total columns:', len(columns_array))"
   ]
  },
  {
   "cell_type": "markdown",
   "metadata": {},
   "source": [
    "New info dataset is generated"
   ]
  },
  {
   "cell_type": "code",
   "execution_count": 12,
   "metadata": {},
   "outputs": [],
   "source": [
    "new_info_df = info_df[ (info_df['Row'].isin(list(df_new.columns) + list(df_new_previous.columns)))]"
   ]
  },
  {
   "cell_type": "markdown",
   "metadata": {},
   "source": [
    "Some valuable information is obtained"
   ]
  },
  {
   "cell_type": "code",
   "execution_count": 28,
   "metadata": {},
   "outputs": [
    {
     "name": "stdout",
     "output_type": "stream",
     "text": [
      "The shape of the current dataframe is:  (244280, 72)\n",
      "The unique values of the current dataframe are:  244280 \n",
      "\n",
      "The shape of the previous dataframe is:  (1164707, 23)\n",
      "The unique values of the previous dataframe are:  232196\n"
     ]
    }
   ],
   "source": [
    "print(\"The shape of the current dataframe is: \", df_new.shape)\n",
    "print(\"The unique values of the current dataframe are: \", df_new.SK_ID_CURR.nunique(), \"\\n\")\n",
    "\n",
    "print(\"The shape of the previous dataframe is: \", df_new_previous.shape)\n",
    "print(\"The unique values of the previous dataframe are: \", df_new_previous.SK_ID_CURR.nunique())"
   ]
  },
  {
   "cell_type": "markdown",
   "metadata": {},
   "source": [
    "Fraud transactions are obtained to analyse the `previous_df`"
   ]
  },
  {
   "cell_type": "code",
   "execution_count": 29,
   "metadata": {},
   "outputs": [
    {
     "name": "stdout",
     "output_type": "stream",
     "text": [
      "The shape of the previous dataframe with fraud is:  (98470, 23)\n",
      "The unique values of the previous dataframe with fraud are:  18296 \n",
      "\n",
      "The shape of the previous dataframe without fraud is:  (1066237, 23)\n",
      "The unique values of the previous dataframe without fraud are:  213900\n"
     ]
    }
   ],
   "source": [
    "id_fraud = df_new[df_new['TARGET'] == 1]['SK_ID_CURR'].values\n",
    "df_previous_fraud, df_previous_no_fraud = df_new_previous[df_new_previous['SK_ID_CURR'].isin(id_fraud)], df_new_previous[~df_new_previous['SK_ID_CURR'].isin(id_fraud)]\n",
    "\n",
    "print(\"The shape of the previous dataframe with fraud is: \", df_previous_fraud.shape)\n",
    "print(\"The unique values of the previous dataframe with fraud are: \", df_previous_fraud.SK_ID_CURR.nunique(), \"\\n\")\n",
    "\n",
    "print(\"The shape of the previous dataframe without fraud is: \", df_previous_no_fraud.shape)\n",
    "print(\"The unique values of the previous dataframe without fraud are: \", df_previous_no_fraud.SK_ID_CURR.nunique())"
   ]
  },
  {
   "cell_type": "markdown",
   "metadata": {},
   "source": [
    "### <a id='3'>3. Save data</a>\n",
    "----"
   ]
  },
  {
   "cell_type": "code",
   "execution_count": 22,
   "metadata": {},
   "outputs": [],
   "source": [
    "df_new_previous.to_csv(output_path + \"previous_application_fraud.csv\", index=False)\n",
    "df_new.to_csv(output_path + \"application_data_fraud.csv\", index=False)\n",
    "new_info_df.to_csv(output_path + \"columns_description_fraud.csv\", index=False)"
   ]
  },
  {
   "cell_type": "markdown",
   "metadata": {},
   "source": [
    "---"
   ]
  }
 ],
 "metadata": {
  "kernelspec": {
   "display_name": "Python 3.8.5 ('reto10_rojo')",
   "language": "python",
   "name": "python3"
  },
  "language_info": {
   "codemirror_mode": {
    "name": "ipython",
    "version": 3
   },
   "file_extension": ".py",
   "mimetype": "text/x-python",
   "name": "python",
   "nbconvert_exporter": "python",
   "pygments_lexer": "ipython3",
   "version": "3.8.5"
  },
  "orig_nbformat": 4,
  "vscode": {
   "interpreter": {
    "hash": "08b3381ba778dce64d58ec8c6c249a117ea9c9228d0f8d8cd77d3c6ba08bc462"
   }
  }
 },
 "nbformat": 4,
 "nbformat_minor": 2
}
